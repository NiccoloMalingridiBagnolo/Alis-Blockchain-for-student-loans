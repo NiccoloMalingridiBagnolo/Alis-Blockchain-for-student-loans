{
 "cells": [
  {
   "cell_type": "markdown",
   "metadata": {},
   "source": [
    "## Prediction analysis"
   ]
  },
  {
   "cell_type": "code",
   "execution_count": 64,
   "metadata": {},
   "outputs": [],
   "source": [
    "import os\n",
    "from os import listdir\n",
    "import matplotlib.pyplot as plt\n",
    "import seaborn as sns\n",
    "import pandas as pd\n",
    "import numpy as np\n",
    "import sklearn\n",
    "from sklearn.model_selection import train_test_split\n",
    "from sklearn.tree import DecisionTreeRegressor\n",
    "from sklearn.model_selection import GridSearchCV\n",
    "from sklearn import preprocessing\n",
    "from sklearn.metrics import mean_absolute_error\n",
    "import matplotlib.pyplot as plt\n",
    "import scipy.stats as ss\n",
    "import scipy\n",
    "import scipy.stats as stats\n",
    "from sklearn.preprocessing import OneHotEncoder\n",
    "from sklearn.metrics import accuracy_score, f1_score, mean_absolute_error\n",
    "from sklearn.preprocessing import MinMaxScaler\n",
    "from sklearn.model_selection import cross_val_score\n",
    "from sklearn.neighbors import KNeighborsRegressor\n",
    "import warnings\n",
    "from IPython.display import Image \n",
    "from sklearn.ensemble import BaggingRegressor\n",
    "from sklearn.svm import SVR\n",
    "from sklearn.ensemble import RandomForestRegressor\n",
    "from sklearn.linear_model import ElasticNet\n",
    "from sklearn.neural_network import MLPRegressor\n",
    "from sklearn import preprocessing\n",
    "from sklearn.ensemble import StackingRegressor\n",
    "from sklearn.preprocessing import RobustScaler\n",
    "import seaborn as sns\n",
    "from scipy.stats import norm\n",
    "from scipy.stats import shapiro\n",
    "from scipy.optimize import minimize\n",
    "from sklearn.ensemble import RandomForestClassifier\n",
    "from sklearn.linear_model import LogisticRegression\n",
    "from sklearn.metrics import log_loss\n",
    "from sklearn.impute import SimpleImputer\n",
    "from sklearn.experimental import enable_iterative_imputer\n",
    "from sklearn.impute import IterativeImputer\n",
    "from sklearn.ensemble import RandomForestClassifier\n",
    "from sklearn.model_selection import cross_val_score\n",
    "from sklearn.model_selection import RepeatedStratifiedKFold\n",
    "from sklearn.pipeline import Pipeline\n",
    "#import missingno as mno\n",
    "\n",
    "warnings.simplefilter(action='ignore', category=FutureWarning)\n",
    "pd.set_option('display.max_columns', None)\n",
    "pd.set_option('display.max_rows', 40)"
   ]
  },
  {
   "cell_type": "code",
   "execution_count": 65,
   "metadata": {},
   "outputs": [
    {
     "data": {
      "text/plain": [
       "'/Users/cristina/Desktop/Finance/ProgettoFinance/Dataset'"
      ]
     },
     "execution_count": 65,
     "metadata": {},
     "output_type": "execute_result"
    }
   ],
   "source": [
    "os.getcwd()"
   ]
  },
  {
   "cell_type": "code",
   "execution_count": 66,
   "metadata": {},
   "outputs": [],
   "source": [
    "dataframe = pd.read_csv('Most-Recent-Cohorts-All-Data-Elements.csv', low_memory=False)"
   ]
  },
  {
   "cell_type": "markdown",
   "metadata": {},
   "source": [
    "## Choose the features that we need in our analysis "
   ]
  },
  {
   "cell_type": "code",
   "execution_count": 67,
   "metadata": {},
   "outputs": [],
   "source": [
    "dataframe = dataframe[['CDR3','INSTNM','SAT_AVG','C150_4', 'C150_L4','COMPL_RPY_3YR_RT','NONCOM_RPY_3YR_RT',\n",
    "                       'GRAD_DEBT_MDN', 'PCTFLOAN', 'MD_EARN_WNE_P8','MEDIAN_HH_INC','COUNT_WNE_INC1_P10', \n",
    "                       'COUNT_WNE_INC2_P10','COUNT_WNE_INC3_P10','ICLEVEL', 'UGDS', 'CONTROL', 'COSTT4_A', \n",
    "                       'COSTT4_P', 'HIGHDEG']] "
   ]
  },
  {
   "cell_type": "markdown",
   "metadata": {},
   "source": [
    "## Split into train and test sets before the pre-processing"
   ]
  },
  {
   "cell_type": "code",
   "execution_count": 68,
   "metadata": {},
   "outputs": [
    {
     "name": "stdout",
     "output_type": "stream",
     "text": [
      "(5879, 20)\n",
      "(927, 20)\n"
     ]
    }
   ],
   "source": [
    "df = dataframe[dataframe['CDR3'].notnull()]\n",
    "test = dataframe[dataframe.CDR3.isnull()]\n",
    "print(df.shape)\n",
    "print(test.shape)"
   ]
  },
  {
   "cell_type": "markdown",
   "metadata": {},
   "source": [
    "## Preprocessing"
   ]
  },
  {
   "cell_type": "code",
   "execution_count": 69,
   "metadata": {},
   "outputs": [],
   "source": [
    "df = df.sample(frac=1, random_state=1)"
   ]
  },
  {
   "cell_type": "code",
   "execution_count": 70,
   "metadata": {},
   "outputs": [
    {
     "data": {
      "text/plain": [
       "(5879, 20)"
      ]
     },
     "execution_count": 70,
     "metadata": {},
     "output_type": "execute_result"
    }
   ],
   "source": [
    "df.shape"
   ]
  },
  {
   "cell_type": "code",
   "execution_count": 71,
   "metadata": {},
   "outputs": [
    {
     "data": {
      "text/html": [
       "<div>\n",
       "<style scoped>\n",
       "    .dataframe tbody tr th:only-of-type {\n",
       "        vertical-align: middle;\n",
       "    }\n",
       "\n",
       "    .dataframe tbody tr th {\n",
       "        vertical-align: top;\n",
       "    }\n",
       "\n",
       "    .dataframe thead th {\n",
       "        text-align: right;\n",
       "    }\n",
       "</style>\n",
       "<table border=\"1\" class=\"dataframe\">\n",
       "  <thead>\n",
       "    <tr style=\"text-align: right;\">\n",
       "      <th></th>\n",
       "      <th>CDR3</th>\n",
       "      <th>INSTNM</th>\n",
       "      <th>SAT_AVG</th>\n",
       "      <th>C150_4</th>\n",
       "      <th>C150_L4</th>\n",
       "      <th>COMPL_RPY_3YR_RT</th>\n",
       "      <th>NONCOM_RPY_3YR_RT</th>\n",
       "      <th>GRAD_DEBT_MDN</th>\n",
       "      <th>PCTFLOAN</th>\n",
       "      <th>MD_EARN_WNE_P8</th>\n",
       "      <th>MEDIAN_HH_INC</th>\n",
       "      <th>COUNT_WNE_INC1_P10</th>\n",
       "      <th>COUNT_WNE_INC2_P10</th>\n",
       "      <th>COUNT_WNE_INC3_P10</th>\n",
       "      <th>ICLEVEL</th>\n",
       "      <th>UGDS</th>\n",
       "      <th>CONTROL</th>\n",
       "      <th>COSTT4_A</th>\n",
       "      <th>COSTT4_P</th>\n",
       "      <th>HIGHDEG</th>\n",
       "    </tr>\n",
       "  </thead>\n",
       "  <tbody>\n",
       "    <tr>\n",
       "      <th>5836</th>\n",
       "      <td>0.072</td>\n",
       "      <td>California Technical Academy</td>\n",
       "      <td>NaN</td>\n",
       "      <td>NaN</td>\n",
       "      <td>0.8750</td>\n",
       "      <td>PrivacySuppressed</td>\n",
       "      <td>PrivacySuppressed</td>\n",
       "      <td>7568</td>\n",
       "      <td>0.1286</td>\n",
       "      <td>NaN</td>\n",
       "      <td>NaN</td>\n",
       "      <td>NaN</td>\n",
       "      <td>NaN</td>\n",
       "      <td>NaN</td>\n",
       "      <td>3</td>\n",
       "      <td>778.0</td>\n",
       "      <td>3</td>\n",
       "      <td>NaN</td>\n",
       "      <td>22280.0</td>\n",
       "      <td>1</td>\n",
       "    </tr>\n",
       "    <tr>\n",
       "      <th>4926</th>\n",
       "      <td>0.254</td>\n",
       "      <td>Florida Academy of Health &amp; Beauty</td>\n",
       "      <td>NaN</td>\n",
       "      <td>NaN</td>\n",
       "      <td>0.8750</td>\n",
       "      <td>PrivacySuppressed</td>\n",
       "      <td>PrivacySuppressed</td>\n",
       "      <td>5500</td>\n",
       "      <td>0.5085</td>\n",
       "      <td>PrivacySuppressed</td>\n",
       "      <td>NaN</td>\n",
       "      <td>PrivacySuppressed</td>\n",
       "      <td>PrivacySuppressed</td>\n",
       "      <td>PrivacySuppressed</td>\n",
       "      <td>3</td>\n",
       "      <td>43.0</td>\n",
       "      <td>3</td>\n",
       "      <td>NaN</td>\n",
       "      <td>18048.0</td>\n",
       "      <td>1</td>\n",
       "    </tr>\n",
       "    <tr>\n",
       "      <th>1501</th>\n",
       "      <td>0.066</td>\n",
       "      <td>Lowell Academy Hairstyling Institute</td>\n",
       "      <td>NaN</td>\n",
       "      <td>NaN</td>\n",
       "      <td>0.5918</td>\n",
       "      <td>0.4347826087</td>\n",
       "      <td>0.2666666667</td>\n",
       "      <td>7433</td>\n",
       "      <td>0.9024</td>\n",
       "      <td>20600</td>\n",
       "      <td>76078.56</td>\n",
       "      <td>PrivacySuppressed</td>\n",
       "      <td>PrivacySuppressed</td>\n",
       "      <td>PrivacySuppressed</td>\n",
       "      <td>3</td>\n",
       "      <td>95.0</td>\n",
       "      <td>3</td>\n",
       "      <td>NaN</td>\n",
       "      <td>18184.0</td>\n",
       "      <td>1</td>\n",
       "    </tr>\n",
       "  </tbody>\n",
       "</table>\n",
       "</div>"
      ],
      "text/plain": [
       "       CDR3                                INSTNM  SAT_AVG  C150_4  C150_L4  \\\n",
       "5836  0.072          California Technical Academy      NaN     NaN   0.8750   \n",
       "4926  0.254    Florida Academy of Health & Beauty      NaN     NaN   0.8750   \n",
       "1501  0.066  Lowell Academy Hairstyling Institute      NaN     NaN   0.5918   \n",
       "\n",
       "       COMPL_RPY_3YR_RT  NONCOM_RPY_3YR_RT GRAD_DEBT_MDN  PCTFLOAN  \\\n",
       "5836  PrivacySuppressed  PrivacySuppressed          7568    0.1286   \n",
       "4926  PrivacySuppressed  PrivacySuppressed          5500    0.5085   \n",
       "1501       0.4347826087       0.2666666667          7433    0.9024   \n",
       "\n",
       "         MD_EARN_WNE_P8 MEDIAN_HH_INC COUNT_WNE_INC1_P10 COUNT_WNE_INC2_P10  \\\n",
       "5836                NaN           NaN                NaN                NaN   \n",
       "4926  PrivacySuppressed           NaN  PrivacySuppressed  PrivacySuppressed   \n",
       "1501              20600      76078.56  PrivacySuppressed  PrivacySuppressed   \n",
       "\n",
       "     COUNT_WNE_INC3_P10  ICLEVEL   UGDS  CONTROL  COSTT4_A  COSTT4_P  HIGHDEG  \n",
       "5836                NaN        3  778.0        3       NaN   22280.0        1  \n",
       "4926  PrivacySuppressed        3   43.0        3       NaN   18048.0        1  \n",
       "1501  PrivacySuppressed        3   95.0        3       NaN   18184.0        1  "
      ]
     },
     "execution_count": 71,
     "metadata": {},
     "output_type": "execute_result"
    }
   ],
   "source": [
    "df.head(3)"
   ]
  },
  {
   "cell_type": "code",
   "execution_count": 72,
   "metadata": {},
   "outputs": [
    {
     "name": "stdout",
     "output_type": "stream",
     "text": [
      "<class 'pandas.core.frame.DataFrame'>\n",
      "Int64Index: 5879 entries, 5836 to 5775\n",
      "Data columns (total 20 columns):\n",
      " #   Column              Non-Null Count  Dtype  \n",
      "---  ------              --------------  -----  \n",
      " 0   CDR3                5879 non-null   float64\n",
      " 1   INSTNM              5879 non-null   object \n",
      " 2   SAT_AVG             1280 non-null   float64\n",
      " 3   C150_4              2166 non-null   float64\n",
      " 4   C150_L4             2713 non-null   float64\n",
      " 5   COMPL_RPY_3YR_RT    5568 non-null   object \n",
      " 6   NONCOM_RPY_3YR_RT   5568 non-null   object \n",
      " 7   GRAD_DEBT_MDN       5749 non-null   object \n",
      " 8   PCTFLOAN            5157 non-null   float64\n",
      " 9   MD_EARN_WNE_P8      5009 non-null   object \n",
      " 10  MEDIAN_HH_INC       4290 non-null   object \n",
      " 11  COUNT_WNE_INC1_P10  5009 non-null   object \n",
      " 12  COUNT_WNE_INC2_P10  5009 non-null   object \n",
      " 13  COUNT_WNE_INC3_P10  5009 non-null   object \n",
      " 14  ICLEVEL             5879 non-null   int64  \n",
      " 15  UGDS                5171 non-null   float64\n",
      " 16  CONTROL             5879 non-null   int64  \n",
      " 17  COSTT4_A            3148 non-null   float64\n",
      " 18  COSTT4_P            1716 non-null   float64\n",
      " 19  HIGHDEG             5879 non-null   int64  \n",
      "dtypes: float64(8), int64(3), object(9)\n",
      "memory usage: 964.5+ KB\n",
      "None\n",
      "(5879, 20)\n"
     ]
    }
   ],
   "source": [
    "print(df.info(verbose=True))\n",
    "print(df.shape)"
   ]
  },
  {
   "cell_type": "code",
   "execution_count": 73,
   "metadata": {},
   "outputs": [
    {
     "name": "stdout",
     "output_type": "stream",
     "text": [
      "CDR3                     0\n",
      "INSTNM                   0\n",
      "SAT_AVG               4599\n",
      "C150_4                3713\n",
      "C150_L4               3166\n",
      "COMPL_RPY_3YR_RT       311\n",
      "NONCOM_RPY_3YR_RT      311\n",
      "GRAD_DEBT_MDN          130\n",
      "PCTFLOAN               722\n",
      "MD_EARN_WNE_P8         870\n",
      "MEDIAN_HH_INC         1589\n",
      "COUNT_WNE_INC1_P10     870\n",
      "COUNT_WNE_INC2_P10     870\n",
      "COUNT_WNE_INC3_P10     870\n",
      "ICLEVEL                  0\n",
      "UGDS                   708\n",
      "CONTROL                  0\n",
      "COSTT4_A              2731\n",
      "COSTT4_P              4163\n",
      "HIGHDEG                  0\n",
      "dtype: int64\n"
     ]
    }
   ],
   "source": [
    "print(df.isnull().sum())"
   ]
  },
  {
   "cell_type": "markdown",
   "metadata": {},
   "source": [
    "Some numeric columns are classified as object because they contained some 'PrivacySuppressed' data or null values. The presence of these values hinders the predictive ability of our features. We can either opt for removing the entire rows containing such data or converting these values into NA and then imputing them using different methods. We will opt for the first option in some case where they seem to be non-random missing values, while in the other cases we will opt for the second option. Missing values, then, will be imputed later on."
   ]
  },
  {
   "cell_type": "code",
   "execution_count": 74,
   "metadata": {
    "scrolled": true
   },
   "outputs": [
    {
     "name": "stdout",
     "output_type": "stream",
     "text": [
      "603\n",
      "992\n",
      "498\n",
      "890\n",
      "1547\n",
      "78\n",
      "(5879, 20)\n"
     ]
    }
   ],
   "source": [
    "#train\n",
    "print(len(df[df['GRAD_DEBT_MDN'] == \"PrivacySuppressed\"]))\n",
    "print(len(df[df['COMPL_RPY_3YR_RT'] == \"PrivacySuppressed\"]))\n",
    "print(len(df[df['MD_EARN_WNE_P8'] == \"PrivacySuppressed\"]))\n",
    "print(len(df[df['COUNT_WNE_INC1_P10'] == \"PrivacySuppressed\"]))\n",
    "print(len(df[df['COUNT_WNE_INC3_P10'] == \"PrivacySuppressed\"]))\n",
    "print(len(df[df['MEDIAN_HH_INC'] == \"PrivacySuppressed\"]))\n",
    "print(df.shape)"
   ]
  },
  {
   "cell_type": "code",
   "execution_count": 75,
   "metadata": {},
   "outputs": [],
   "source": [
    "df = df.replace('PrivacySuppressed', np.nan)"
   ]
  },
  {
   "cell_type": "code",
   "execution_count": 76,
   "metadata": {
    "scrolled": true
   },
   "outputs": [
    {
     "name": "stdout",
     "output_type": "stream",
     "text": [
      "639\n",
      "48\n",
      "127\n",
      "234\n",
      "467\n",
      "10\n",
      "(927, 20)\n"
     ]
    }
   ],
   "source": [
    "#test\n",
    "print(len(test[test['GRAD_DEBT_MDN'] == \"PrivacySuppressed\"]))\n",
    "print(len(test[test['COMPL_RPY_3YR_RT'] == \"PrivacySuppressed\"]))\n",
    "print(len(test[test['MD_EARN_WNE_P8'] == \"PrivacySuppressed\"]))\n",
    "print(len(test[test['COUNT_WNE_INC1_P10'] == \"PrivacySuppressed\"]))\n",
    "print(len(test[test['COUNT_WNE_INC3_P10'] == \"PrivacySuppressed\"]))\n",
    "print(len(test[test['MEDIAN_HH_INC'] == \"PrivacySuppressed\"]))\n",
    "print(test.shape)"
   ]
  },
  {
   "cell_type": "code",
   "execution_count": 77,
   "metadata": {},
   "outputs": [],
   "source": [
    "test = test.replace('PrivacySuppressed', np.nan)"
   ]
  },
  {
   "cell_type": "code",
   "execution_count": 79,
   "metadata": {},
   "outputs": [
    {
     "name": "stdout",
     "output_type": "stream",
     "text": [
      "CDR3                     0\n",
      "INSTNM                   0\n",
      "SAT_AVG               4599\n",
      "C150_4                3713\n",
      "C150_L4               3166\n",
      "COMPL_RPY_3YR_RT      1303\n",
      "NONCOM_RPY_3YR_RT     1303\n",
      "GRAD_DEBT_MDN          733\n",
      "PCTFLOAN               722\n",
      "MD_EARN_WNE_P8        1368\n",
      "MEDIAN_HH_INC         1667\n",
      "COUNT_WNE_INC1_P10    1760\n",
      "COUNT_WNE_INC2_P10    2404\n",
      "COUNT_WNE_INC3_P10    2417\n",
      "ICLEVEL                  0\n",
      "UGDS                   708\n",
      "CONTROL                  0\n",
      "COSTT4_A              2731\n",
      "COSTT4_P              4163\n",
      "HIGHDEG                  0\n",
      "dtype: int64\n",
      "(5879, 20)\n"
     ]
    }
   ],
   "source": [
    "print(df.isnull().sum())\n",
    "print(df.shape)"
   ]
  },
  {
   "cell_type": "code",
   "execution_count": 80,
   "metadata": {},
   "outputs": [],
   "source": [
    "#train\n",
    "df['COMPL_RPY_3YR_RT'] = df['COMPL_RPY_3YR_RT'].astype(str).astype(float)\n",
    "df['NONCOM_RPY_3YR_RT'] = df['NONCOM_RPY_3YR_RT'].astype(str).astype(float)\n",
    "df['GRAD_DEBT_MDN'] = df['GRAD_DEBT_MDN'].astype(str).astype(float)\n",
    "df['MD_EARN_WNE_P8'] = df['MD_EARN_WNE_P8'].astype(str).astype(float)\n",
    "df['COUNT_WNE_INC1_P10'] = df['COUNT_WNE_INC1_P10'].astype(str).astype(float)\n",
    "df['COUNT_WNE_INC2_P10'] = df['COUNT_WNE_INC2_P10'].astype(str).astype(float)\n",
    "df['COUNT_WNE_INC3_P10'] = df['COUNT_WNE_INC3_P10'].astype(str).astype(float)\n",
    "df['MEDIAN_HH_INC'] = df['MEDIAN_HH_INC'].astype(str).astype(float)"
   ]
  },
  {
   "cell_type": "code",
   "execution_count": 81,
   "metadata": {},
   "outputs": [],
   "source": [
    "#test\n",
    "test['COMPL_RPY_3YR_RT'] = test['COMPL_RPY_3YR_RT'].astype(str).astype(float)\n",
    "test['NONCOM_RPY_3YR_RT'] = test['NONCOM_RPY_3YR_RT'].astype(str).astype(float)\n",
    "test['GRAD_DEBT_MDN'] = test['GRAD_DEBT_MDN'].astype(str).astype(float)\n",
    "test['MD_EARN_WNE_P8'] = test['MD_EARN_WNE_P8'].astype(str).astype(float)\n",
    "test['COUNT_WNE_INC1_P10'] = test['COUNT_WNE_INC1_P10'].astype(str).astype(float)\n",
    "test['COUNT_WNE_INC2_P10'] = test['COUNT_WNE_INC2_P10'].astype(str).astype(float)\n",
    "test['COUNT_WNE_INC3_P10'] = test['COUNT_WNE_INC3_P10'].astype(str).astype(float)\n",
    "test['MEDIAN_HH_INC'] = test['MEDIAN_HH_INC'].astype(str).astype(float)"
   ]
  },
  {
   "cell_type": "code",
   "execution_count": 82,
   "metadata": {},
   "outputs": [
    {
     "data": {
      "text/html": [
       "<div>\n",
       "<style scoped>\n",
       "    .dataframe tbody tr th:only-of-type {\n",
       "        vertical-align: middle;\n",
       "    }\n",
       "\n",
       "    .dataframe tbody tr th {\n",
       "        vertical-align: top;\n",
       "    }\n",
       "\n",
       "    .dataframe thead th {\n",
       "        text-align: right;\n",
       "    }\n",
       "</style>\n",
       "<table border=\"1\" class=\"dataframe\">\n",
       "  <thead>\n",
       "    <tr style=\"text-align: right;\">\n",
       "      <th></th>\n",
       "      <th>CDR3</th>\n",
       "      <th>SAT_AVG</th>\n",
       "      <th>C150_4</th>\n",
       "      <th>C150_L4</th>\n",
       "      <th>COMPL_RPY_3YR_RT</th>\n",
       "      <th>NONCOM_RPY_3YR_RT</th>\n",
       "      <th>GRAD_DEBT_MDN</th>\n",
       "      <th>PCTFLOAN</th>\n",
       "      <th>MD_EARN_WNE_P8</th>\n",
       "      <th>MEDIAN_HH_INC</th>\n",
       "      <th>COUNT_WNE_INC1_P10</th>\n",
       "      <th>COUNT_WNE_INC2_P10</th>\n",
       "      <th>COUNT_WNE_INC3_P10</th>\n",
       "      <th>ICLEVEL</th>\n",
       "      <th>UGDS</th>\n",
       "      <th>CONTROL</th>\n",
       "      <th>COSTT4_A</th>\n",
       "      <th>COSTT4_P</th>\n",
       "      <th>HIGHDEG</th>\n",
       "    </tr>\n",
       "  </thead>\n",
       "  <tbody>\n",
       "    <tr>\n",
       "      <th>count</th>\n",
       "      <td>5879.000000</td>\n",
       "      <td>1280.000000</td>\n",
       "      <td>2166.000000</td>\n",
       "      <td>2713.000000</td>\n",
       "      <td>4576.000000</td>\n",
       "      <td>4576.000000</td>\n",
       "      <td>5146.000000</td>\n",
       "      <td>5157.000000</td>\n",
       "      <td>4511.000000</td>\n",
       "      <td>4212.000000</td>\n",
       "      <td>4119.000000</td>\n",
       "      <td>3475.000000</td>\n",
       "      <td>3462.000000</td>\n",
       "      <td>5879.000000</td>\n",
       "      <td>5171.000000</td>\n",
       "      <td>5879.000000</td>\n",
       "      <td>3148.000000</td>\n",
       "      <td>1716.000000</td>\n",
       "      <td>5879.000000</td>\n",
       "    </tr>\n",
       "    <tr>\n",
       "      <th>mean</th>\n",
       "      <td>0.107210</td>\n",
       "      <td>1140.440625</td>\n",
       "      <td>0.511328</td>\n",
       "      <td>0.562729</td>\n",
       "      <td>0.573921</td>\n",
       "      <td>0.378768</td>\n",
       "      <td>16343.043140</td>\n",
       "      <td>0.512189</td>\n",
       "      <td>33527.976059</td>\n",
       "      <td>59330.072951</td>\n",
       "      <td>979.440884</td>\n",
       "      <td>964.639424</td>\n",
       "      <td>694.162334</td>\n",
       "      <td>1.746726</td>\n",
       "      <td>2866.429124</td>\n",
       "      <td>2.081647</td>\n",
       "      <td>27928.145172</td>\n",
       "      <td>21347.659674</td>\n",
       "      <td>2.312468</td>\n",
       "    </tr>\n",
       "    <tr>\n",
       "      <th>std</th>\n",
       "      <td>0.074038</td>\n",
       "      <td>125.371846</td>\n",
       "      <td>0.213723</td>\n",
       "      <td>0.242014</td>\n",
       "      <td>0.179747</td>\n",
       "      <td>0.165637</td>\n",
       "      <td>8110.145332</td>\n",
       "      <td>0.245614</td>\n",
       "      <td>13983.081394</td>\n",
       "      <td>12322.917238</td>\n",
       "      <td>2435.776497</td>\n",
       "      <td>3258.723289</td>\n",
       "      <td>2011.647856</td>\n",
       "      <td>0.816414</td>\n",
       "      <td>6022.814462</td>\n",
       "      <td>0.829534</td>\n",
       "      <td>16017.259669</td>\n",
       "      <td>6448.945544</td>\n",
       "      <td>1.383382</td>\n",
       "    </tr>\n",
       "    <tr>\n",
       "      <th>min</th>\n",
       "      <td>0.000000</td>\n",
       "      <td>785.000000</td>\n",
       "      <td>0.000000</td>\n",
       "      <td>0.000000</td>\n",
       "      <td>0.090517</td>\n",
       "      <td>0.066667</td>\n",
       "      <td>1974.000000</td>\n",
       "      <td>0.000000</td>\n",
       "      <td>10800.000000</td>\n",
       "      <td>17277.840000</td>\n",
       "      <td>25.000000</td>\n",
       "      <td>25.000000</td>\n",
       "      <td>25.000000</td>\n",
       "      <td>1.000000</td>\n",
       "      <td>0.000000</td>\n",
       "      <td>1.000000</td>\n",
       "      <td>6419.000000</td>\n",
       "      <td>6931.000000</td>\n",
       "      <td>0.000000</td>\n",
       "    </tr>\n",
       "    <tr>\n",
       "      <th>25%</th>\n",
       "      <td>0.049000</td>\n",
       "      <td>1057.750000</td>\n",
       "      <td>0.357150</td>\n",
       "      <td>0.343400</td>\n",
       "      <td>0.432165</td>\n",
       "      <td>0.237366</td>\n",
       "      <td>9500.000000</td>\n",
       "      <td>0.341100</td>\n",
       "      <td>24900.000000</td>\n",
       "      <td>50795.517500</td>\n",
       "      <td>140.000000</td>\n",
       "      <td>153.500000</td>\n",
       "      <td>75.000000</td>\n",
       "      <td>1.000000</td>\n",
       "      <td>132.000000</td>\n",
       "      <td>1.000000</td>\n",
       "      <td>14464.750000</td>\n",
       "      <td>17270.750000</td>\n",
       "      <td>1.000000</td>\n",
       "    </tr>\n",
       "    <tr>\n",
       "      <th>50%</th>\n",
       "      <td>0.096000</td>\n",
       "      <td>1123.000000</td>\n",
       "      <td>0.513000</td>\n",
       "      <td>0.600000</td>\n",
       "      <td>0.574015</td>\n",
       "      <td>0.360973</td>\n",
       "      <td>14000.000000</td>\n",
       "      <td>0.553900</td>\n",
       "      <td>31300.000000</td>\n",
       "      <td>58770.340000</td>\n",
       "      <td>369.000000</td>\n",
       "      <td>323.000000</td>\n",
       "      <td>211.000000</td>\n",
       "      <td>2.000000</td>\n",
       "      <td>623.000000</td>\n",
       "      <td>2.000000</td>\n",
       "      <td>23601.000000</td>\n",
       "      <td>20380.000000</td>\n",
       "      <td>2.000000</td>\n",
       "    </tr>\n",
       "    <tr>\n",
       "      <th>75%</th>\n",
       "      <td>0.151000</td>\n",
       "      <td>1199.000000</td>\n",
       "      <td>0.659450</td>\n",
       "      <td>0.750000</td>\n",
       "      <td>0.714286</td>\n",
       "      <td>0.500000</td>\n",
       "      <td>23598.250000</td>\n",
       "      <td>0.695400</td>\n",
       "      <td>39300.000000</td>\n",
       "      <td>67360.062500</td>\n",
       "      <td>976.000000</td>\n",
       "      <td>776.000000</td>\n",
       "      <td>533.000000</td>\n",
       "      <td>2.000000</td>\n",
       "      <td>2632.500000</td>\n",
       "      <td>3.000000</td>\n",
       "      <td>37514.750000</td>\n",
       "      <td>24684.000000</td>\n",
       "      <td>4.000000</td>\n",
       "    </tr>\n",
       "    <tr>\n",
       "      <th>max</th>\n",
       "      <td>0.666000</td>\n",
       "      <td>1566.000000</td>\n",
       "      <td>1.000000</td>\n",
       "      <td>1.000000</td>\n",
       "      <td>0.970646</td>\n",
       "      <td>0.906863</td>\n",
       "      <td>47000.000000</td>\n",
       "      <td>1.000000</td>\n",
       "      <td>238900.000000</td>\n",
       "      <td>100870.750000</td>\n",
       "      <td>30518.000000</td>\n",
       "      <td>41362.000000</td>\n",
       "      <td>22844.000000</td>\n",
       "      <td>3.000000</td>\n",
       "      <td>88921.000000</td>\n",
       "      <td>3.000000</td>\n",
       "      <td>96375.000000</td>\n",
       "      <td>116377.000000</td>\n",
       "      <td>4.000000</td>\n",
       "    </tr>\n",
       "  </tbody>\n",
       "</table>\n",
       "</div>"
      ],
      "text/plain": [
       "              CDR3      SAT_AVG       C150_4      C150_L4  COMPL_RPY_3YR_RT  \\\n",
       "count  5879.000000  1280.000000  2166.000000  2713.000000       4576.000000   \n",
       "mean      0.107210  1140.440625     0.511328     0.562729          0.573921   \n",
       "std       0.074038   125.371846     0.213723     0.242014          0.179747   \n",
       "min       0.000000   785.000000     0.000000     0.000000          0.090517   \n",
       "25%       0.049000  1057.750000     0.357150     0.343400          0.432165   \n",
       "50%       0.096000  1123.000000     0.513000     0.600000          0.574015   \n",
       "75%       0.151000  1199.000000     0.659450     0.750000          0.714286   \n",
       "max       0.666000  1566.000000     1.000000     1.000000          0.970646   \n",
       "\n",
       "       NONCOM_RPY_3YR_RT  GRAD_DEBT_MDN     PCTFLOAN  MD_EARN_WNE_P8  \\\n",
       "count        4576.000000    5146.000000  5157.000000     4511.000000   \n",
       "mean            0.378768   16343.043140     0.512189    33527.976059   \n",
       "std             0.165637    8110.145332     0.245614    13983.081394   \n",
       "min             0.066667    1974.000000     0.000000    10800.000000   \n",
       "25%             0.237366    9500.000000     0.341100    24900.000000   \n",
       "50%             0.360973   14000.000000     0.553900    31300.000000   \n",
       "75%             0.500000   23598.250000     0.695400    39300.000000   \n",
       "max             0.906863   47000.000000     1.000000   238900.000000   \n",
       "\n",
       "       MEDIAN_HH_INC  COUNT_WNE_INC1_P10  COUNT_WNE_INC2_P10  \\\n",
       "count    4212.000000         4119.000000         3475.000000   \n",
       "mean    59330.072951          979.440884          964.639424   \n",
       "std     12322.917238         2435.776497         3258.723289   \n",
       "min     17277.840000           25.000000           25.000000   \n",
       "25%     50795.517500          140.000000          153.500000   \n",
       "50%     58770.340000          369.000000          323.000000   \n",
       "75%     67360.062500          976.000000          776.000000   \n",
       "max    100870.750000        30518.000000        41362.000000   \n",
       "\n",
       "       COUNT_WNE_INC3_P10      ICLEVEL          UGDS      CONTROL  \\\n",
       "count         3462.000000  5879.000000   5171.000000  5879.000000   \n",
       "mean           694.162334     1.746726   2866.429124     2.081647   \n",
       "std           2011.647856     0.816414   6022.814462     0.829534   \n",
       "min             25.000000     1.000000      0.000000     1.000000   \n",
       "25%             75.000000     1.000000    132.000000     1.000000   \n",
       "50%            211.000000     2.000000    623.000000     2.000000   \n",
       "75%            533.000000     2.000000   2632.500000     3.000000   \n",
       "max          22844.000000     3.000000  88921.000000     3.000000   \n",
       "\n",
       "           COSTT4_A       COSTT4_P      HIGHDEG  \n",
       "count   3148.000000    1716.000000  5879.000000  \n",
       "mean   27928.145172   21347.659674     2.312468  \n",
       "std    16017.259669    6448.945544     1.383382  \n",
       "min     6419.000000    6931.000000     0.000000  \n",
       "25%    14464.750000   17270.750000     1.000000  \n",
       "50%    23601.000000   20380.000000     2.000000  \n",
       "75%    37514.750000   24684.000000     4.000000  \n",
       "max    96375.000000  116377.000000     4.000000  "
      ]
     },
     "execution_count": 82,
     "metadata": {},
     "output_type": "execute_result"
    }
   ],
   "source": [
    "df.describe()"
   ]
  },
  {
   "cell_type": "code",
   "execution_count": 83,
   "metadata": {},
   "outputs": [],
   "source": [
    "numeric_cols = ['SAT_AVG', 'C150_4', 'C150_L4', 'PCTFLOAN', 'UGDS', 'COSTT4_A', 'COSTT4_P','COMPL_RPY_3YR_RT', 'NONCOM_RPY_3YR_RT', 'GRAD_DEBT_MDN', 'MD_EARN_WNE_P8', 'MEDIAN_HH_INC',\n",
    "            'COUNT_WNE_INC1_P10', 'COUNT_WNE_INC2_P10', 'COUNT_WNE_INC3_P10']\n",
    "discrete_cols = ['INSTNM','ICLEVEL', 'CONTROL', 'HIGHDEG']"
   ]
  },
  {
   "cell_type": "code",
   "execution_count": 84,
   "metadata": {
    "scrolled": true
   },
   "outputs": [
    {
     "data": {
      "image/png": "[encoded data removed]",
      "text/plain": [
       "<Figure size 432x288 with 1 Axes>"
      ]
     },
     "metadata": {
      "needs_background": "light"
     },
     "output_type": "display_data"
    },
    {
     "data": {
      "image/png": "[encoded data removed]",
      "text/plain": [
       "<Figure size 432x288 with 1 Axes>"
      ]
     },
     "metadata": {
      "needs_background": "light"
     },
     "output_type": "display_data"
    },
    {
     "data": {
      "image/png": "[encoded data removed]",
      "text/plain": [
       "<Figure size 432x288 with 1 Axes>"
      ]
     },
     "metadata": {
      "needs_background": "light"
     },
     "output_type": "display_data"
    },
    {
     "data": {
      "image/png": "[encoded data removed]",
      "text/plain": [
       "<Figure size 432x288 with 1 Axes>"
      ]
     },
     "metadata": {
      "needs_background": "light"
     },
     "output_type": "display_data"
    },
    {
     "data": {
      "image/png": "[encoded data removed]",
      "text/plain": [
       "<Figure size 432x288 with 1 Axes>"
      ]
     },
     "metadata": {
      "needs_background": "light"
     },
     "output_type": "display_data"
    },
    {
     "data": {
      "image/png": "[encoded data removed]",
      "text/plain": [
       "<Figure size 432x288 with 1 Axes>"
      ]
     },
     "metadata": {
      "needs_background": "light"
     },
     "output_type": "display_data"
    },
    {
     "data": {
      "image/png": "[encoded data removed]",
      "text/plain": [
       "<Figure size 432x288 with 1 Axes>"
      ]
     },
     "metadata": {
      "needs_background": "light"
     },
     "output_type": "display_data"
    },
    {
     "data": {
      "image/png": "[encoded data removed]",
      "text/plain": [
       "<Figure size 432x288 with 1 Axes>"
      ]
     },
     "metadata": {
      "needs_background": "light"
     },
     "output_type": "display_data"
    },
    {
     "data": {
      "image/png": "[encoded data removed]",
      "text/plain": [
       "<Figure size 432x288 with 1 Axes>"
      ]
     },
     "metadata": {
      "needs_background": "light"
     },
     "output_type": "display_data"
    },
    {
     "data": {
      "image/png": "[encoded data removed]",
      "text/plain": [
       "<Figure size 432x288 with 1 Axes>"
      ]
     },
     "metadata": {
      "needs_background": "light"
     },
     "output_type": "display_data"
    },
    {
     "data": {
      "image/png": "[encoded data removed]",
      "text/plain": [
       "<Figure size 432x288 with 1 Axes>"
      ]
     },
     "metadata": {
      "needs_background": "light"
     },
     "output_type": "display_data"
    },
    {
     "data": {
      "image/png": "[encoded data removed]",
      "text/plain": [
       "<Figure size 432x288 with 1 Axes>"
      ]
     },
     "metadata": {
      "needs_background": "light"
     },
     "output_type": "display_data"
    },
    {
     "data": {
      "image/png": "[encoded data removed]",
      "text/plain": [
       "<Figure size 432x288 with 1 Axes>"
      ]
     },
     "metadata": {
      "needs_background": "light"
     },
     "output_type": "display_data"
    },
    {
     "data": {
      "image/png": "[encoded data removed]",
      "text/plain": [
       "<Figure size 432x288 with 1 Axes>"
      ]
     },
     "metadata": {
      "needs_background": "light"
     },
     "output_type": "display_data"
    },
    {
     "data": {
      "image/png": "[encoded data removed]",
      "text/plain": [
       "<Figure size 432x288 with 1 Axes>"
      ]
     },
     "metadata": {
      "needs_background": "light"
     },
     "output_type": "display_data"
    }
   ],
   "source": [
    "## Scatter plots for numerical variables\n",
    "for i in df[numeric_cols]:\n",
    "    plt.scatter(df[i].tolist(), df.CDR3.tolist())\n",
    "    plt.xlabel(\"X\")\n",
    "    plt.ylabel(\"Y\")\n",
    "    plt.show()\n",
    "    \n",
    "## NB: presence of outliers"
   ]
  },
  {
   "cell_type": "markdown",
   "metadata": {},
   "source": [
    "## Check target variable distribution"
   ]
  },
  {
   "cell_type": "code",
   "execution_count": 85,
   "metadata": {},
   "outputs": [
    {
     "name": "stdout",
     "output_type": "stream",
     "text": [
      "Statistics=0.932, p=0.000\n",
      "Sample does not look Gaussian --> reject H0\n"
     ]
    },
    {
     "name": "stderr",
     "output_type": "stream",
     "text": [
      "/opt/anaconda3/lib/python3.8/site-packages/scipy/stats/morestats.py:1681: UserWarning: p-value may not be accurate for N > 5000.\n",
      "  warnings.warn(\"p-value may not be accurate for N > 5000.\")\n"
     ]
    }
   ],
   "source": [
    "resp = df['CDR3']\n",
    "stat, p = shapiro(resp)\n",
    "print('Statistics=%.3f, p=%.3f' % (stat, p))\n",
    "alpha = 0.05\n",
    "if p > alpha:\n",
    "    print('Sample looks Gaussian --> fail to reject H0')\n",
    "else:\n",
    "    print('Sample does not look Gaussian --> reject H0')"
   ]
  },
  {
   "cell_type": "code",
   "execution_count": 86,
   "metadata": {},
   "outputs": [
    {
     "data": {
      "text/plain": [
       "<AxesSubplot:xlabel='CDR3', ylabel='Density'>"
      ]
     },
     "execution_count": 86,
     "metadata": {},
     "output_type": "execute_result"
    },
    {
     "data": {
      "image/png": "[encoded data removed]",
      "text/plain": [
       "<Figure size 864x288 with 3 Axes>"
      ]
     },
     "metadata": {
      "needs_background": "light"
     },
     "output_type": "display_data"
    }
   ],
   "source": [
    "fig, ax = plt.subplots(1, 3)\n",
    "width, height = fig.get_size_inches()\n",
    "fig.set_size_inches(width*2, height)\n",
    "\n",
    "sns.distplot(df['CDR3'], ax=ax[0], fit=norm)\n",
    "sns.distplot(np.sqrt(df['CDR3']), ax=ax[1], fit= norm)\n",
    "sns.distplot(np.log(df['CDR3']+1), ax=ax[2], fit= norm)\n",
    "## With np.sqrt transformation it resembles a normal distribution"
   ]
  },
  {
   "cell_type": "markdown",
   "metadata": {},
   "source": [
    "## COSTT4_A and COSTT4_P"
   ]
  },
  {
   "cell_type": "markdown",
   "metadata": {},
   "source": [
    "I will operate on COSTA and COSTP. From the data dictionary, COSTT4_A (COSTA) and COSTT4_P (COSTP) are the average costs of attendance for academic-year institutions and program-year institutions respectively. There are too many missing values and as obvious, some of them must be non-random NA values. This is because only the academic-year institutions will have a value for COSTA feature and NULL for the rest and vice-versa. I can go ahead and engineer a common feature representing the cost of attendance irrespective of whether the institute is an academic-year based or program-year."
   ]
  },
  {
   "cell_type": "code",
   "execution_count": 87,
   "metadata": {},
   "outputs": [
    {
     "name": "stderr",
     "output_type": "stream",
     "text": [
      "<ipython-input-87-18ce2f281c77>:2: SettingWithCopyWarning: \n",
      "A value is trying to be set on a copy of a slice from a DataFrame\n",
      "\n",
      "See the caveats in the documentation: https://pandas.pydata.org/pandas-docs/stable/user_guide/indexing.html#returning-a-view-versus-a-copy\n",
      "  df['COSTT4_A'][df['COSTT4_A'].isnull() & df['COSTT4_P'].notnull()] = 0\n",
      "<ipython-input-87-18ce2f281c77>:3: SettingWithCopyWarning: \n",
      "A value is trying to be set on a copy of a slice from a DataFrame\n",
      "\n",
      "See the caveats in the documentation: https://pandas.pydata.org/pandas-docs/stable/user_guide/indexing.html#returning-a-view-versus-a-copy\n",
      "  df['COSTT4_P'][df['COSTT4_P'].isnull() & df['COSTT4_A'].notnull()] = 0\n",
      "<ipython-input-87-18ce2f281c77>:10: SettingWithCopyWarning: \n",
      "A value is trying to be set on a copy of a slice from a DataFrame\n",
      "\n",
      "See the caveats in the documentation: https://pandas.pydata.org/pandas-docs/stable/user_guide/indexing.html#returning-a-view-versus-a-copy\n",
      "  test['COSTT4_A'][test['COSTT4_A'].isnull() & test['COSTT4_P'].notnull()] = 0\n",
      "<ipython-input-87-18ce2f281c77>:11: SettingWithCopyWarning: \n",
      "A value is trying to be set on a copy of a slice from a DataFrame\n",
      "\n",
      "See the caveats in the documentation: https://pandas.pydata.org/pandas-docs/stable/user_guide/indexing.html#returning-a-view-versus-a-copy\n",
      "  test['COSTT4_P'][test['COSTT4_P'].isnull() & test['COSTT4_A'].notnull()] = 0\n"
     ]
    }
   ],
   "source": [
    "#train set\n",
    "df['COSTT4_A'][df['COSTT4_A'].isnull() & df['COSTT4_P'].notnull()] = 0\n",
    "df['COSTT4_P'][df['COSTT4_P'].isnull() & df['COSTT4_A'].notnull()] = 0\n",
    "# now create a feature for the cost of attendance\n",
    "df['COST'] = df['COSTT4_A'] + df['COSTT4_P']\n",
    "df.drop([\"COSTT4_A\"], axis=1, inplace=True)\n",
    "df.drop([\"COSTT4_P\"], axis=1, inplace=True)\n",
    "\n",
    "#test set\n",
    "test['COSTT4_A'][test['COSTT4_A'].isnull() & test['COSTT4_P'].notnull()] = 0\n",
    "test['COSTT4_P'][test['COSTT4_P'].isnull() & test['COSTT4_A'].notnull()] = 0\n",
    "# now create a feature for the cost of attendance\n",
    "test['COST'] = test['COSTT4_A'] + test['COSTT4_P']\n",
    "test.drop([\"COSTT4_A\"], axis=1, inplace=True)\n",
    "test.drop([\"COSTT4_P\"], axis=1, inplace=True)"
   ]
  },
  {
   "cell_type": "markdown",
   "metadata": {},
   "source": [
    "I will operate on C150_4 and C150_L4. From the data dictionary, C150_4 and C150_L4 are the proportion of full-time, first-time, degree/certificate-seeking undergraduates who completed a degree or certificate at the institution within 150 percent of normal time for 4-year institutions and less-than-4-year institutions respectively. There are too many missing values and as obvious, some of them must be non-random NA values. This is because only the 4-year institutions will have a value for C150 feature and NULL for the rest and vice-versa. I can go ahead and engineer a common feature representing the the proportion of undergraduates who completed a degree within 150 percent irrespective of whether the institute is 4-year or less."
   ]
  },
  {
   "cell_type": "code",
   "execution_count": 88,
   "metadata": {},
   "outputs": [
    {
     "name": "stderr",
     "output_type": "stream",
     "text": [
      "<ipython-input-88-9f77c0040012>:2: SettingWithCopyWarning: \n",
      "A value is trying to be set on a copy of a slice from a DataFrame\n",
      "\n",
      "See the caveats in the documentation: https://pandas.pydata.org/pandas-docs/stable/user_guide/indexing.html#returning-a-view-versus-a-copy\n",
      "  df['C150_4'][df['C150_4'].isnull() & df['C150_L4'].notnull()] = 0\n",
      "<ipython-input-88-9f77c0040012>:3: SettingWithCopyWarning: \n",
      "A value is trying to be set on a copy of a slice from a DataFrame\n",
      "\n",
      "See the caveats in the documentation: https://pandas.pydata.org/pandas-docs/stable/user_guide/indexing.html#returning-a-view-versus-a-copy\n",
      "  df['C150_L4'][df['C150_L4'].isnull() & df['C150_4'].notnull()] = 0\n",
      "<ipython-input-88-9f77c0040012>:10: SettingWithCopyWarning: \n",
      "A value is trying to be set on a copy of a slice from a DataFrame\n",
      "\n",
      "See the caveats in the documentation: https://pandas.pydata.org/pandas-docs/stable/user_guide/indexing.html#returning-a-view-versus-a-copy\n",
      "  test['C150_4'][test['C150_4'].isnull() & test['C150_L4'].notnull()] = 0\n",
      "<ipython-input-88-9f77c0040012>:11: SettingWithCopyWarning: \n",
      "A value is trying to be set on a copy of a slice from a DataFrame\n",
      "\n",
      "See the caveats in the documentation: https://pandas.pydata.org/pandas-docs/stable/user_guide/indexing.html#returning-a-view-versus-a-copy\n",
      "  test['C150_L4'][test['C150_L4'].isnull() & test['C150_4'].notnull()] = 0\n"
     ]
    }
   ],
   "source": [
    "#train set\n",
    "df['C150_4'][df['C150_4'].isnull() & df['C150_L4'].notnull()] = 0\n",
    "df['C150_L4'][df['C150_L4'].isnull() & df['C150_4'].notnull()] = 0\n",
    "# now create a feature for the cost of attendance\n",
    "df['C150'] = df['C150_L4'] + df['C150_4']\n",
    "df.drop([\"C150_L4\"], axis=1, inplace=True)\n",
    "df.drop([\"C150_4\"], axis=1, inplace=True)\n",
    "\n",
    "#test set\n",
    "test['C150_4'][test['C150_4'].isnull() & test['C150_L4'].notnull()] = 0\n",
    "test['C150_L4'][test['C150_L4'].isnull() & test['C150_4'].notnull()] = 0\n",
    "# now create a feature for the cost of attendance\n",
    "test['C150'] = test['C150_L4'] + test['C150_4']\n",
    "test.drop([\"C150_L4\"], axis=1, inplace=True)\n",
    "test.drop([\"C150_4\"], axis=1, inplace=True)"
   ]
  },
  {
   "cell_type": "markdown",
   "metadata": {},
   "source": [
    "## Feature selection"
   ]
  },
  {
   "cell_type": "code",
   "execution_count": 89,
   "metadata": {},
   "outputs": [
    {
     "name": "stdout",
     "output_type": "stream",
     "text": [
      "ICLEVEL ,  27.820491185861652 ,  1.5810175924266726e-07 ,  SIGNIFICANT\n",
      "CONTROL ,  8.263438937837178 ,  0.000272916358946998 ,  SIGNIFICANT\n",
      "HIGHDEG ,  21.024875947297634 ,  2.840998556916733e-13 ,  SIGNIFICANT\n"
     ]
    }
   ],
   "source": [
    "## Discrete variables\n",
    "# ANOVA test (to do without missing values)\n",
    "data = df.dropna()\n",
    "\n",
    "#ICLEVEL\n",
    "a = data[\"CDR3\"].loc[data['ICLEVEL'] == 1]\n",
    "b = data[\"CDR3\"].loc[data['ICLEVEL'] == 2]\n",
    "#c = data[\"CDR3\"].loc[data['ICLEVEL'] == 3]\n",
    "\n",
    "t,pval = stats.f_oneway(a,b)\n",
    "if pval < 0.025:\n",
    "    j = 'SIGNIFICANT'\n",
    "else:\n",
    "    j = 'INSIGNIFICANT'\n",
    "print(\"ICLEVEL\", ', ', t, ', ', pval, ', ', j)\n",
    "\n",
    "\n",
    "#CONTROL\n",
    "a = data[\"CDR3\"].loc[data['CONTROL'] == 1]\n",
    "b = data[\"CDR3\"].loc[data['CONTROL'] == 2]\n",
    "c = data[\"CDR3\"].loc[data['CONTROL'] == 3]\n",
    "\n",
    "t,pval = stats.f_oneway(a,b,c)\n",
    "if pval < 0.025:\n",
    "    j = 'SIGNIFICANT'\n",
    "else:\n",
    "    j = 'INSIGNIFICANT'\n",
    "print(\"CONTROL\", ', ', t, ', ', pval, ', ', j)\n",
    "\n",
    "#HIGHDEG\n",
    "a = data[\"CDR3\"].loc[data['HIGHDEG'] == 1]\n",
    "b = data[\"CDR3\"].loc[data['HIGHDEG'] == 2]\n",
    "c = data[\"CDR3\"].loc[data['HIGHDEG'] == 3]\n",
    "d = data[\"CDR3\"].loc[data['HIGHDEG'] == 4]\n",
    "\n",
    "t,pval = stats.f_oneway(a,b,c,d)\n",
    "if pval < 0.025:\n",
    "    j = 'SIGNIFICANT'\n",
    "else:\n",
    "    j = 'INSIGNIFICANT'\n",
    "print(\"HIGHDEG\", ', ', t, ', ', pval, ', ', j)"
   ]
  },
  {
   "cell_type": "code",
   "execution_count": 90,
   "metadata": {},
   "outputs": [
    {
     "data": {
      "image/png": "[encoded data removed]",
      "text/plain": [
       "<Figure size 1440x1440 with 2 Axes>"
      ]
     },
     "metadata": {},
     "output_type": "display_data"
    }
   ],
   "source": [
    "numeric_cols = ['SAT_AVG', 'C150', 'PCTFLOAN', 'UGDS', 'COST', 'COMPL_RPY_3YR_RT', 'NONCOM_RPY_3YR_RT', 'GRAD_DEBT_MDN', 'MD_EARN_WNE_P8', 'MEDIAN_HH_INC',\n",
    "            'COUNT_WNE_INC1_P10', 'COUNT_WNE_INC2_P10', 'COUNT_WNE_INC3_P10']\n",
    "\n",
    "corrMatrix = df[numeric_cols+['CDR3']].corr()\n",
    "mask = np.zeros_like(corrMatrix)\n",
    "mask[np.triu_indices_from(mask)] = True\n",
    "with sns.axes_style(\"white\"):\n",
    "    f, ax = plt.subplots(figsize=(20, 20))\n",
    "    ax = sns.heatmap(corrMatrix, mask=mask, square=True) "
   ]
  },
  {
   "cell_type": "markdown",
   "metadata": {},
   "source": [
    "## Categorical variables"
   ]
  },
  {
   "cell_type": "code",
   "execution_count": 91,
   "metadata": {},
   "outputs": [
    {
     "name": "stdout",
     "output_type": "stream",
     "text": [
      "[3 2 1]\n",
      "[3 1 2]\n",
      "[1 3 2 4 0]\n"
     ]
    }
   ],
   "source": [
    "print(pd.unique(df['CONTROL'].values.ravel()))\n",
    "print(pd.unique(df['ICLEVEL'].values.ravel()))\n",
    "print(pd.unique(df['HIGHDEG'].values.ravel()))"
   ]
  },
  {
   "cell_type": "code",
   "execution_count": 92,
   "metadata": {},
   "outputs": [],
   "source": [
    "## ONE HOT ENCODING FOR CATEGORICAL VARIABLES\n",
    "#train set\n",
    "if 'CONTROL' in df.columns:\n",
    "    hot1df = pd.get_dummies(df.CONTROL, prefix='CONTROL', drop_first=True)\n",
    "    df = pd.concat([df, hot1df], axis=1)\n",
    "    df.drop([\"CONTROL\"], axis=1, inplace=True)\n",
    "if 'ICLEVEL' in df.columns:\n",
    "    hot1df = pd.get_dummies(df.ICLEVEL, prefix='ICLEVEL', drop_first=True)\n",
    "    df = pd.concat([df, hot1df], axis=1)\n",
    "    df.drop([\"ICLEVEL\"], axis=1, inplace=True)\n",
    "if 'HIGHDEG' in df.columns:\n",
    "    hot1df = pd.get_dummies(df.HIGHDEG, prefix='HIGHDEG', drop_first=True)\n",
    "    df = pd.concat([df, hot1df], axis=1)\n",
    "    df.drop([\"HIGHDEG\"], axis=1, inplace=True)\n",
    "    \n",
    "#test set\n",
    "if 'CONTROL' in test.columns:\n",
    "    hot1df = pd.get_dummies(test.CONTROL, prefix='CONTROL', drop_first=True)\n",
    "    test = pd.concat([test, hot1df], axis=1)\n",
    "    test.drop([\"CONTROL\"], axis=1, inplace=True)\n",
    "if 'ICLEVEL' in test.columns:\n",
    "    hot1df = pd.get_dummies(test.ICLEVEL, prefix='ICLEVEL', drop_first=True)\n",
    "    test = pd.concat([test, hot1df], axis=1)\n",
    "    test.drop([\"ICLEVEL\"], axis=1, inplace=True)\n",
    "if 'HIGHDEG' in test.columns:\n",
    "    hot1df = pd.get_dummies(test.HIGHDEG, prefix='HIGHDEG', drop_first=True)\n",
    "    test = pd.concat([test, hot1df], axis=1)\n",
    "    test.drop([\"HIGHDEG\"], axis=1, inplace=True)"
   ]
  },
  {
   "cell_type": "code",
   "execution_count": 93,
   "metadata": {
    "scrolled": true
   },
   "outputs": [
    {
     "data": {
      "text/html": [
       "<div>\n",
       "<style scoped>\n",
       "    .dataframe tbody tr th:only-of-type {\n",
       "        vertical-align: middle;\n",
       "    }\n",
       "\n",
       "    .dataframe tbody tr th {\n",
       "        vertical-align: top;\n",
       "    }\n",
       "\n",
       "    .dataframe thead th {\n",
       "        text-align: right;\n",
       "    }\n",
       "</style>\n",
       "<table border=\"1\" class=\"dataframe\">\n",
       "  <thead>\n",
       "    <tr style=\"text-align: right;\">\n",
       "      <th></th>\n",
       "      <th>CDR3</th>\n",
       "      <th>INSTNM</th>\n",
       "      <th>SAT_AVG</th>\n",
       "      <th>COMPL_RPY_3YR_RT</th>\n",
       "      <th>NONCOM_RPY_3YR_RT</th>\n",
       "      <th>GRAD_DEBT_MDN</th>\n",
       "      <th>PCTFLOAN</th>\n",
       "      <th>MD_EARN_WNE_P8</th>\n",
       "      <th>MEDIAN_HH_INC</th>\n",
       "      <th>COUNT_WNE_INC1_P10</th>\n",
       "      <th>COUNT_WNE_INC2_P10</th>\n",
       "      <th>COUNT_WNE_INC3_P10</th>\n",
       "      <th>UGDS</th>\n",
       "      <th>COST</th>\n",
       "      <th>C150</th>\n",
       "      <th>CONTROL_2</th>\n",
       "      <th>CONTROL_3</th>\n",
       "      <th>ICLEVEL_2</th>\n",
       "      <th>ICLEVEL_3</th>\n",
       "      <th>HIGHDEG_1</th>\n",
       "      <th>HIGHDEG_2</th>\n",
       "      <th>HIGHDEG_3</th>\n",
       "      <th>HIGHDEG_4</th>\n",
       "    </tr>\n",
       "  </thead>\n",
       "  <tbody>\n",
       "    <tr>\n",
       "      <th>5836</th>\n",
       "      <td>0.072</td>\n",
       "      <td>California Technical Academy</td>\n",
       "      <td>NaN</td>\n",
       "      <td>NaN</td>\n",
       "      <td>NaN</td>\n",
       "      <td>7568.0</td>\n",
       "      <td>0.1286</td>\n",
       "      <td>NaN</td>\n",
       "      <td>NaN</td>\n",
       "      <td>NaN</td>\n",
       "      <td>NaN</td>\n",
       "      <td>NaN</td>\n",
       "      <td>778.0</td>\n",
       "      <td>22280.0</td>\n",
       "      <td>0.875</td>\n",
       "      <td>0</td>\n",
       "      <td>1</td>\n",
       "      <td>0</td>\n",
       "      <td>1</td>\n",
       "      <td>1</td>\n",
       "      <td>0</td>\n",
       "      <td>0</td>\n",
       "      <td>0</td>\n",
       "    </tr>\n",
       "  </tbody>\n",
       "</table>\n",
       "</div>"
      ],
      "text/plain": [
       "       CDR3                        INSTNM  SAT_AVG  COMPL_RPY_3YR_RT  \\\n",
       "5836  0.072  California Technical Academy      NaN               NaN   \n",
       "\n",
       "      NONCOM_RPY_3YR_RT  GRAD_DEBT_MDN  PCTFLOAN  MD_EARN_WNE_P8  \\\n",
       "5836                NaN         7568.0    0.1286             NaN   \n",
       "\n",
       "      MEDIAN_HH_INC  COUNT_WNE_INC1_P10  COUNT_WNE_INC2_P10  \\\n",
       "5836            NaN                 NaN                 NaN   \n",
       "\n",
       "      COUNT_WNE_INC3_P10   UGDS     COST   C150  CONTROL_2  CONTROL_3  \\\n",
       "5836                 NaN  778.0  22280.0  0.875          0          1   \n",
       "\n",
       "      ICLEVEL_2  ICLEVEL_3  HIGHDEG_1  HIGHDEG_2  HIGHDEG_3  HIGHDEG_4  \n",
       "5836          0          1          1          0          0          0  "
      ]
     },
     "execution_count": 93,
     "metadata": {},
     "output_type": "execute_result"
    }
   ],
   "source": [
    "df.head(1)"
   ]
  },
  {
   "cell_type": "code",
   "execution_count": 94,
   "metadata": {},
   "outputs": [
    {
     "data": {
      "text/html": [
       "<div>\n",
       "<style scoped>\n",
       "    .dataframe tbody tr th:only-of-type {\n",
       "        vertical-align: middle;\n",
       "    }\n",
       "\n",
       "    .dataframe tbody tr th {\n",
       "        vertical-align: top;\n",
       "    }\n",
       "\n",
       "    .dataframe thead th {\n",
       "        text-align: right;\n",
       "    }\n",
       "</style>\n",
       "<table border=\"1\" class=\"dataframe\">\n",
       "  <thead>\n",
       "    <tr style=\"text-align: right;\">\n",
       "      <th></th>\n",
       "      <th>CDR3</th>\n",
       "      <th>INSTNM</th>\n",
       "      <th>SAT_AVG</th>\n",
       "      <th>COMPL_RPY_3YR_RT</th>\n",
       "      <th>NONCOM_RPY_3YR_RT</th>\n",
       "      <th>GRAD_DEBT_MDN</th>\n",
       "      <th>PCTFLOAN</th>\n",
       "      <th>MD_EARN_WNE_P8</th>\n",
       "      <th>MEDIAN_HH_INC</th>\n",
       "      <th>COUNT_WNE_INC1_P10</th>\n",
       "      <th>COUNT_WNE_INC2_P10</th>\n",
       "      <th>COUNT_WNE_INC3_P10</th>\n",
       "      <th>UGDS</th>\n",
       "      <th>COST</th>\n",
       "      <th>C150</th>\n",
       "      <th>CONTROL_2</th>\n",
       "      <th>CONTROL_3</th>\n",
       "      <th>ICLEVEL_2</th>\n",
       "      <th>ICLEVEL_3</th>\n",
       "      <th>HIGHDEG_1</th>\n",
       "      <th>HIGHDEG_2</th>\n",
       "      <th>HIGHDEG_3</th>\n",
       "      <th>HIGHDEG_4</th>\n",
       "    </tr>\n",
       "  </thead>\n",
       "  <tbody>\n",
       "    <tr>\n",
       "      <th>16</th>\n",
       "      <td>NaN</td>\n",
       "      <td>Gadsden State Community College</td>\n",
       "      <td>NaN</td>\n",
       "      <td>NaN</td>\n",
       "      <td>NaN</td>\n",
       "      <td>NaN</td>\n",
       "      <td>0.0</td>\n",
       "      <td>23600.0</td>\n",
       "      <td>43919.51</td>\n",
       "      <td>1319.0</td>\n",
       "      <td>NaN</td>\n",
       "      <td>NaN</td>\n",
       "      <td>4147.0</td>\n",
       "      <td>10098.0</td>\n",
       "      <td>0.2133</td>\n",
       "      <td>0</td>\n",
       "      <td>0</td>\n",
       "      <td>1</td>\n",
       "      <td>0</td>\n",
       "      <td>0</td>\n",
       "      <td>1</td>\n",
       "      <td>0</td>\n",
       "      <td>0</td>\n",
       "    </tr>\n",
       "  </tbody>\n",
       "</table>\n",
       "</div>"
      ],
      "text/plain": [
       "    CDR3                           INSTNM  SAT_AVG  COMPL_RPY_3YR_RT  \\\n",
       "16   NaN  Gadsden State Community College      NaN               NaN   \n",
       "\n",
       "    NONCOM_RPY_3YR_RT  GRAD_DEBT_MDN  PCTFLOAN  MD_EARN_WNE_P8  MEDIAN_HH_INC  \\\n",
       "16                NaN            NaN       0.0         23600.0       43919.51   \n",
       "\n",
       "    COUNT_WNE_INC1_P10  COUNT_WNE_INC2_P10  COUNT_WNE_INC3_P10    UGDS  \\\n",
       "16              1319.0                 NaN                 NaN  4147.0   \n",
       "\n",
       "       COST    C150  CONTROL_2  CONTROL_3  ICLEVEL_2  ICLEVEL_3  HIGHDEG_1  \\\n",
       "16  10098.0  0.2133          0          0          1          0          0   \n",
       "\n",
       "    HIGHDEG_2  HIGHDEG_3  HIGHDEG_4  \n",
       "16          1          0          0  "
      ]
     },
     "execution_count": 94,
     "metadata": {},
     "output_type": "execute_result"
    }
   ],
   "source": [
    "test.head(1)"
   ]
  },
  {
   "cell_type": "code",
   "execution_count": 95,
   "metadata": {},
   "outputs": [
    {
     "data": {
      "text/plain": [
       "(5770, 23)"
      ]
     },
     "execution_count": 95,
     "metadata": {},
     "output_type": "execute_result"
    }
   ],
   "source": [
    "df.drop_duplicates('INSTNM', inplace=True)\n",
    "df.shape"
   ]
  },
  {
   "cell_type": "markdown",
   "metadata": {},
   "source": [
    "## Delete rows with more than 5 missing values"
   ]
  },
  {
   "cell_type": "code",
   "execution_count": 97,
   "metadata": {},
   "outputs": [
    {
     "data": {
      "text/plain": [
       "(4081, 23)"
      ]
     },
     "execution_count": 97,
     "metadata": {},
     "output_type": "execute_result"
    }
   ],
   "source": [
    "df = df[df.isnull().sum(axis=1) < 6]\n",
    "df.shape"
   ]
  },
  {
   "cell_type": "code",
   "execution_count": 98,
   "metadata": {},
   "outputs": [
    {
     "name": "stdout",
     "output_type": "stream",
     "text": [
      "CDR3                     0\n",
      "INSTNM                   0\n",
      "SAT_AVG               2836\n",
      "COMPL_RPY_3YR_RT       170\n",
      "NONCOM_RPY_3YR_RT      170\n",
      "GRAD_DEBT_MDN           62\n",
      "PCTFLOAN                74\n",
      "MD_EARN_WNE_P8          63\n",
      "MEDIAN_HH_INC          391\n",
      "COUNT_WNE_INC1_P10     281\n",
      "COUNT_WNE_INC2_P10     828\n",
      "COUNT_WNE_INC3_P10     839\n",
      "UGDS                    75\n",
      "COST                   222\n",
      "C150                   187\n",
      "CONTROL_2                0\n",
      "CONTROL_3                0\n",
      "ICLEVEL_2                0\n",
      "ICLEVEL_3                0\n",
      "HIGHDEG_1                0\n",
      "HIGHDEG_2                0\n",
      "HIGHDEG_3                0\n",
      "HIGHDEG_4                0\n",
      "dtype: int64\n"
     ]
    }
   ],
   "source": [
    "print(df.isnull().sum())"
   ]
  },
  {
   "cell_type": "code",
   "execution_count": 99,
   "metadata": {},
   "outputs": [],
   "source": [
    "## SAT_AVG has too many missing values --> delete this column"
   ]
  },
  {
   "cell_type": "code",
   "execution_count": 100,
   "metadata": {},
   "outputs": [],
   "source": [
    "df = df.drop('SAT_AVG', axis = 1)\n",
    "test = test.drop('SAT_AVG', axis = 1)"
   ]
  },
  {
   "cell_type": "markdown",
   "metadata": {},
   "source": [
    "## Imputation of missing values"
   ]
  },
  {
   "cell_type": "code",
   "execution_count": 101,
   "metadata": {},
   "outputs": [
    {
     "data": {
      "text/plain": [
       "CDR3                    0\n",
       "INSTNM                  0\n",
       "COMPL_RPY_3YR_RT      170\n",
       "NONCOM_RPY_3YR_RT     170\n",
       "GRAD_DEBT_MDN          62\n",
       "PCTFLOAN               74\n",
       "MD_EARN_WNE_P8         63\n",
       "MEDIAN_HH_INC         391\n",
       "COUNT_WNE_INC1_P10    281\n",
       "COUNT_WNE_INC2_P10    828\n",
       "COUNT_WNE_INC3_P10    839\n",
       "UGDS                   75\n",
       "COST                  222\n",
       "C150                  187\n",
       "CONTROL_2               0\n",
       "CONTROL_3               0\n",
       "ICLEVEL_2               0\n",
       "ICLEVEL_3               0\n",
       "HIGHDEG_1               0\n",
       "HIGHDEG_2               0\n",
       "HIGHDEG_3               0\n",
       "HIGHDEG_4               0\n",
       "dtype: int64"
      ]
     },
     "execution_count": 101,
     "metadata": {},
     "output_type": "execute_result"
    }
   ],
   "source": [
    "df.isnull().sum()"
   ]
  },
  {
   "cell_type": "code",
   "execution_count": 102,
   "metadata": {},
   "outputs": [],
   "source": [
    "df = df.drop('INSTNM', axis = 1)\n",
    "test = test.drop('INSTNM', axis = 1)"
   ]
  },
  {
   "cell_type": "code",
   "execution_count": 103,
   "metadata": {},
   "outputs": [
    {
     "name": "stdout",
     "output_type": "stream",
     "text": [
      "(4081, 21)\n",
      "(927, 21)\n"
     ]
    }
   ],
   "source": [
    "print(df.shape)\n",
    "print(test.shape)"
   ]
  },
  {
   "cell_type": "code",
   "execution_count": 39,
   "metadata": {},
   "outputs": [],
   "source": [
    "mno.matrix(df, figsize = (20, 6))"
   ]
  },
  {
   "cell_type": "code",
   "execution_count": 104,
   "metadata": {},
   "outputs": [
    {
     "name": "stderr",
     "output_type": "stream",
     "text": [
      "/opt/anaconda3/lib/python3.8/site-packages/sklearn/impute/_iterative.py:669: ConvergenceWarning: [IterativeImputer] Early stopping criterion not reached.\n",
      "  warnings.warn(\"[IterativeImputer] Early stopping criterion not\"\n"
     ]
    }
   ],
   "source": [
    "imputer = IterativeImputer()\n",
    "# fit on the train only\n",
    "imputer.fit(df)\n",
    "# transform the dataset\n",
    "Xtrans = pd.DataFrame(imputer.transform(df))\n",
    "Xtrans.columns = df.columns\n",
    "Xtrans.index = df.index"
   ]
  },
  {
   "cell_type": "code",
   "execution_count": 105,
   "metadata": {},
   "outputs": [],
   "source": [
    "#transform also the test set\n",
    "TestTrans = pd.DataFrame(imputer.transform(test))\n",
    "TestTrans.columns = test.columns\n",
    "TestTrans.index = test.index"
   ]
  },
  {
   "cell_type": "code",
   "execution_count": 106,
   "metadata": {
    "scrolled": true
   },
   "outputs": [
    {
     "name": "stdout",
     "output_type": "stream",
     "text": [
      "CDR3                  0\n",
      "COMPL_RPY_3YR_RT      0\n",
      "NONCOM_RPY_3YR_RT     0\n",
      "GRAD_DEBT_MDN         0\n",
      "PCTFLOAN              0\n",
      "MD_EARN_WNE_P8        0\n",
      "MEDIAN_HH_INC         0\n",
      "COUNT_WNE_INC1_P10    0\n",
      "COUNT_WNE_INC2_P10    0\n",
      "COUNT_WNE_INC3_P10    0\n",
      "UGDS                  0\n",
      "COST                  0\n",
      "C150                  0\n",
      "CONTROL_2             0\n",
      "CONTROL_3             0\n",
      "ICLEVEL_2             0\n",
      "ICLEVEL_3             0\n",
      "HIGHDEG_1             0\n",
      "HIGHDEG_2             0\n",
      "HIGHDEG_3             0\n",
      "HIGHDEG_4             0\n",
      "dtype: int64\n",
      "CDR3                  0\n",
      "COMPL_RPY_3YR_RT      0\n",
      "NONCOM_RPY_3YR_RT     0\n",
      "GRAD_DEBT_MDN         0\n",
      "PCTFLOAN              0\n",
      "MD_EARN_WNE_P8        0\n",
      "MEDIAN_HH_INC         0\n",
      "COUNT_WNE_INC1_P10    0\n",
      "COUNT_WNE_INC2_P10    0\n",
      "COUNT_WNE_INC3_P10    0\n",
      "UGDS                  0\n",
      "COST                  0\n",
      "C150                  0\n",
      "CONTROL_2             0\n",
      "CONTROL_3             0\n",
      "ICLEVEL_2             0\n",
      "ICLEVEL_3             0\n",
      "HIGHDEG_1             0\n",
      "HIGHDEG_2             0\n",
      "HIGHDEG_3             0\n",
      "HIGHDEG_4             0\n",
      "dtype: int64\n"
     ]
    }
   ],
   "source": [
    "print(Xtrans.isnull().sum())\n",
    "print(TestTrans.isnull().sum())"
   ]
  },
  {
   "cell_type": "markdown",
   "metadata": {},
   "source": [
    "## X and Y"
   ]
  },
  {
   "cell_type": "code",
   "execution_count": 107,
   "metadata": {},
   "outputs": [],
   "source": [
    "df_y = Xtrans['CDR3']\n",
    "df_x = Xtrans.drop('CDR3', axis = 1)\n",
    "\n",
    "#test_y = test['CDR3']\n",
    "test_x = TestTrans.drop('CDR3', axis = 1)"
   ]
  },
  {
   "cell_type": "markdown",
   "metadata": {},
   "source": [
    "I am going to make a copy of the data in order to be able to compare performance using y and sqrt(y) and se which one performs better"
   ]
  },
  {
   "cell_type": "code",
   "execution_count": 108,
   "metadata": {},
   "outputs": [],
   "source": [
    "X_train = df_x.copy()\n",
    "y_train = df_y.copy()\n",
    "X_test = test_x.copy()"
   ]
  },
  {
   "cell_type": "code",
   "execution_count": 109,
   "metadata": {},
   "outputs": [],
   "source": [
    "# sqrt transformation for target variable (compare models using both y and sqrt(y))\n",
    "y_train_sqrt = y_train.copy()\n",
    "y_train_sqrt = y_train_sqrt.apply(lambda x: np.sqrt(x))"
   ]
  },
  {
   "cell_type": "markdown",
   "metadata": {},
   "source": [
    "## Standardization "
   ]
  },
  {
   "cell_type": "markdown",
   "metadata": {},
   "source": [
    "I will make a copy of the data, so that later I can compare models with standardized data and raw data and see in which case they perform better"
   ]
  },
  {
   "cell_type": "code",
   "execution_count": 110,
   "metadata": {},
   "outputs": [],
   "source": [
    "#MinMax Scaler\n",
    "scaler = MinMaxScaler()\n",
    "X_train_scal = df_x.copy()\n",
    "X_test_scal = test_x.copy()\n",
    "\n",
    "#fit on the train\n",
    "scaler.fit(X_train_scal.iloc[:,:-8])\n",
    "\n",
    "#transform both the train and the test\n",
    "X_train_scal.iloc[:,:-8] = scaler.transform(X_train_scal.iloc[:,:-8])\n",
    "X_test_scal.iloc[:,:-8] = scaler.transform(X_test_scal.iloc[:,:-8])"
   ]
  },
  {
   "cell_type": "code",
   "execution_count": 111,
   "metadata": {},
   "outputs": [
    {
     "data": {
      "text/html": [
       "<div>\n",
       "<style scoped>\n",
       "    .dataframe tbody tr th:only-of-type {\n",
       "        vertical-align: middle;\n",
       "    }\n",
       "\n",
       "    .dataframe tbody tr th {\n",
       "        vertical-align: top;\n",
       "    }\n",
       "\n",
       "    .dataframe thead th {\n",
       "        text-align: right;\n",
       "    }\n",
       "</style>\n",
       "<table border=\"1\" class=\"dataframe\">\n",
       "  <thead>\n",
       "    <tr style=\"text-align: right;\">\n",
       "      <th></th>\n",
       "      <th>COMPL_RPY_3YR_RT</th>\n",
       "      <th>NONCOM_RPY_3YR_RT</th>\n",
       "      <th>GRAD_DEBT_MDN</th>\n",
       "      <th>PCTFLOAN</th>\n",
       "      <th>MD_EARN_WNE_P8</th>\n",
       "      <th>MEDIAN_HH_INC</th>\n",
       "      <th>COUNT_WNE_INC1_P10</th>\n",
       "      <th>COUNT_WNE_INC2_P10</th>\n",
       "      <th>COUNT_WNE_INC3_P10</th>\n",
       "      <th>UGDS</th>\n",
       "      <th>COST</th>\n",
       "      <th>C150</th>\n",
       "      <th>CONTROL_2</th>\n",
       "      <th>CONTROL_3</th>\n",
       "      <th>ICLEVEL_2</th>\n",
       "      <th>ICLEVEL_3</th>\n",
       "      <th>HIGHDEG_1</th>\n",
       "      <th>HIGHDEG_2</th>\n",
       "      <th>HIGHDEG_3</th>\n",
       "      <th>HIGHDEG_4</th>\n",
       "    </tr>\n",
       "  </thead>\n",
       "  <tbody>\n",
       "    <tr>\n",
       "      <th>1501</th>\n",
       "      <td>0.301921</td>\n",
       "      <td>0.23804</td>\n",
       "      <td>0.121866</td>\n",
       "      <td>0.9024</td>\n",
       "      <td>0.085143</td>\n",
       "      <td>0.606184</td>\n",
       "      <td>0.046925</td>\n",
       "      <td>0.057923</td>\n",
       "      <td>0.084101</td>\n",
       "      <td>0.004567</td>\n",
       "      <td>0.394773</td>\n",
       "      <td>0.5918</td>\n",
       "      <td>0.0</td>\n",
       "      <td>1.0</td>\n",
       "      <td>0.0</td>\n",
       "      <td>1.0</td>\n",
       "      <td>1.0</td>\n",
       "      <td>0.0</td>\n",
       "      <td>0.0</td>\n",
       "      <td>0.0</td>\n",
       "    </tr>\n",
       "  </tbody>\n",
       "</table>\n",
       "</div>"
      ],
      "text/plain": [
       "      COMPL_RPY_3YR_RT  NONCOM_RPY_3YR_RT  GRAD_DEBT_MDN  PCTFLOAN  \\\n",
       "1501          0.301921            0.23804       0.121866    0.9024   \n",
       "\n",
       "      MD_EARN_WNE_P8  MEDIAN_HH_INC  COUNT_WNE_INC1_P10  COUNT_WNE_INC2_P10  \\\n",
       "1501        0.085143       0.606184            0.046925            0.057923   \n",
       "\n",
       "      COUNT_WNE_INC3_P10      UGDS      COST    C150  CONTROL_2  CONTROL_3  \\\n",
       "1501            0.084101  0.004567  0.394773  0.5918        0.0        1.0   \n",
       "\n",
       "      ICLEVEL_2  ICLEVEL_3  HIGHDEG_1  HIGHDEG_2  HIGHDEG_3  HIGHDEG_4  \n",
       "1501        0.0        1.0        1.0        0.0        0.0        0.0  "
      ]
     },
     "execution_count": 111,
     "metadata": {},
     "output_type": "execute_result"
    }
   ],
   "source": [
    "X_train_scal.head(1)"
   ]
  },
  {
   "cell_type": "markdown",
   "metadata": {},
   "source": [
    "## Divide df and df_sclaed in train + dev "
   ]
  },
  {
   "cell_type": "code",
   "execution_count": 112,
   "metadata": {},
   "outputs": [
    {
     "name": "stdout",
     "output_type": "stream",
     "text": [
      "3468 612\n"
     ]
    }
   ],
   "source": [
    "#not standardized\n",
    "N = len(df_x)\n",
    "train_size = int(N*0.85)\n",
    "dev_size = int(N*0.15)\n",
    "\n",
    "train = df_x[:train_size]\n",
    "yt = df_y[:train_size]\n",
    "dev = df_x[train_size: train_size+dev_size]\n",
    "y_dev = df_y[train_size: train_size+dev_size]\n",
    "\n",
    "print(len(train), len(dev))"
   ]
  },
  {
   "cell_type": "code",
   "execution_count": 113,
   "metadata": {},
   "outputs": [
    {
     "name": "stdout",
     "output_type": "stream",
     "text": [
      "(3468, 20)\n",
      "(612, 20)\n"
     ]
    }
   ],
   "source": [
    "print(train.shape)\n",
    "print(dev.shape)"
   ]
  },
  {
   "cell_type": "code",
   "execution_count": 114,
   "metadata": {},
   "outputs": [
    {
     "name": "stdout",
     "output_type": "stream",
     "text": [
      "3468 612\n"
     ]
    }
   ],
   "source": [
    "#standardized data\n",
    "N = len(df_x)\n",
    "train_size = int(N*0.85)\n",
    "dev_size = int(N*0.15)\n",
    "\n",
    "train_s = X_train_scal[:train_size]\n",
    "#yt = df_y[:train_size]\n",
    "dev_s = X_train_scal[train_size: train_size+dev_size]\n",
    "#y_dev = df_y[train_size: train_size+dev_size]\n",
    "\n",
    "print(len(train_s), len(dev_s))"
   ]
  },
  {
   "cell_type": "code",
   "execution_count": 115,
   "metadata": {},
   "outputs": [
    {
     "name": "stdout",
     "output_type": "stream",
     "text": [
      "(3468, 20)\n",
      "(612, 20)\n"
     ]
    }
   ],
   "source": [
    "print(train_s.shape)\n",
    "print(dev_s.shape)"
   ]
  },
  {
   "cell_type": "markdown",
   "metadata": {},
   "source": [
    "## Models"
   ]
  },
  {
   "cell_type": "code",
   "execution_count": 116,
   "metadata": {},
   "outputs": [
    {
     "name": "stdout",
     "output_type": "stream",
     "text": [
      "MAE score: [-0.02800391 -0.02829495 -0.02674159]\n"
     ]
    }
   ],
   "source": [
    "#Without standardization\n",
    "rf = RandomForestRegressor(random_state = 1, n_jobs = -1, criterion = \"mae\")\n",
    "score = cross_val_score(rf, train, yt, cv=3, scoring=\"neg_mean_absolute_error\", n_jobs = -1)\n",
    "rf.fit(train, yt)\n",
    "print(\"MAE score:\", score)\n"
   ]
  },
  {
   "cell_type": "code",
   "execution_count": 117,
   "metadata": {},
   "outputs": [
    {
     "name": "stdout",
     "output_type": "stream",
     "text": [
      "Mean Absolute Error: 0.03 degrees.\n"
     ]
    },
    {
     "data": {
      "text/plain": [
       "0.025983725490196077"
      ]
     },
     "execution_count": 117,
     "metadata": {},
     "output_type": "execute_result"
    }
   ],
   "source": [
    "predictions = rf.predict(dev)\n",
    "# Calculate the absolute errors\n",
    "errors = abs(predictions - y_dev)\n",
    "# Print out the mean absolute error (mae)\n",
    "print('Mean Absolute Error:', round(np.mean(errors), 2), 'degrees.')\n",
    "mean_absolute_error(y_dev, predictions)"
   ]
  },
  {
   "cell_type": "code",
   "execution_count": 121,
   "metadata": {},
   "outputs": [
    {
     "name": "stdout",
     "output_type": "stream",
     "text": [
      "Variable: NONCOM_RPY_3YR_RT    Importance: 0.31\n",
      "Variable: MD_EARN_WNE_P8       Importance: 0.13\n",
      "Variable: C150                 Importance: 0.08\n",
      "Variable: COMPL_RPY_3YR_RT     Importance: 0.07\n",
      "Variable: GRAD_DEBT_MDN        Importance: 0.06\n",
      "Variable: COUNT_WNE_INC1_P10   Importance: 0.06\n",
      "Variable: PCTFLOAN             Importance: 0.05\n",
      "Variable: MEDIAN_HH_INC        Importance: 0.04\n",
      "Variable: COUNT_WNE_INC2_P10   Importance: 0.04\n",
      "Variable: COUNT_WNE_INC3_P10   Importance: 0.04\n",
      "Variable: UGDS                 Importance: 0.04\n",
      "Variable: COST                 Importance: 0.04\n",
      "Variable: CONTROL_2            Importance: 0.01\n",
      "Variable: CONTROL_3            Importance: 0.01\n",
      "Variable: ICLEVEL_2            Importance: 0.01\n",
      "Variable: HIGHDEG_2            Importance: 0.01\n",
      "Variable: HIGHDEG_4            Importance: 0.01\n",
      "Variable: ICLEVEL_3            Importance: 0.0\n",
      "Variable: HIGHDEG_1            Importance: 0.0\n",
      "Variable: HIGHDEG_3            Importance: 0.0\n"
     ]
    },
    {
     "data": {
      "text/plain": [
       "[None,\n",
       " None,\n",
       " None,\n",
       " None,\n",
       " None,\n",
       " None,\n",
       " None,\n",
       " None,\n",
       " None,\n",
       " None,\n",
       " None,\n",
       " None,\n",
       " None,\n",
       " None,\n",
       " None,\n",
       " None,\n",
       " None,\n",
       " None,\n",
       " None,\n",
       " None]"
      ]
     },
     "execution_count": 121,
     "metadata": {},
     "output_type": "execute_result"
    }
   ],
   "source": [
    "importances = list(rf.feature_importances_)\n",
    "# List of tuples with variable and importance\n",
    "feature_list = list(train.columns)\n",
    "features = np.array(train)\n",
    "feature_importances = [(feature, round(importance, 2)) for feature, importance in zip(feature_list, importances)]\n",
    "# Sort the feature importances by most important first\n",
    "feature_importances = sorted(feature_importances, key = lambda x: x[1], reverse = True)\n",
    "# Print out the feature and importances \n",
    "[print('Variable: {:20} Importance: {}'.format(*pair)) for pair in feature_importances]"
   ]
  },
  {
   "cell_type": "code",
   "execution_count": null,
   "metadata": {},
   "outputs": [],
   "source": [
    "rf = RandomForestRegressor(random_state = 1, n_jobs = -1)\n",
    "\n",
    "min_samples_leaf_n = [1, 10, 50]\n",
    "max_features_n = ['auto', 'sqrt']\n",
    "n_estimators_n = [50,100,200]\n",
    "\n",
    "param_grid = [\n",
    "    {'min_samples_leaf': min_samples_leaf_n,\n",
    "     'max_features': max_features_n,\n",
    "     'n_estimators': n_estimators_n,\n",
    "    },\n",
    "    ]\n",
    "\n",
    "grid = GridSearchCV(rf, param_grid, cv = 3, scoring='neg_mean_absolute_error', n_jobs = -1)\n",
    "grid.fit(X_train, y_train.values.ravel())\n",
    "\n",
    "print(grid.best_params_)\n",
    "print(grid.best_score_)"
   ]
  },
  {
   "cell_type": "code",
   "execution_count": 119,
   "metadata": {},
   "outputs": [
    {
     "name": "stdout",
     "output_type": "stream",
     "text": [
      "MAE score: [-0.0280074  -0.02829388 -0.0267406 ]\n"
     ]
    }
   ],
   "source": [
    "#With standardization\n",
    "rf = RandomForestRegressor(random_state = 1, n_jobs = -1, criterion = \"mae\")\n",
    "score = cross_val_score(rf, train_s, yt, cv=3, scoring=\"neg_mean_absolute_error\", n_jobs = -1)\n",
    "rf.fit(train_s, yt)\n",
    "print(\"MAE score:\", score)\n"
   ]
  },
  {
   "cell_type": "code",
   "execution_count": null,
   "metadata": {},
   "outputs": [],
   "source": []
  }
 ],
 "metadata": {
  "kernelspec": {
   "display_name": "Python 3",
   "language": "python",
   "name": "python3"
  },
  "language_info": {
   "codemirror_mode": {
    "name": "ipython",
    "version": 3
   },
   "file_extension": ".py",
   "mimetype": "text/x-python",
   "name": "python",
   "nbconvert_exporter": "python",
   "pygments_lexer": "ipython3",
   "version": "3.8.5"
  }
 },
 "nbformat": 4,
 "nbformat_minor": 4
}
