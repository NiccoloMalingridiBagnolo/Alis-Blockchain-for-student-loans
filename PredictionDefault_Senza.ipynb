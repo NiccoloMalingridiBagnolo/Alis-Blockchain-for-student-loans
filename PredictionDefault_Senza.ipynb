{
 "cells": [
  {
   "cell_type": "markdown",
   "metadata": {},
   "source": [
    "## Prediction analysis"
   ]
  },
  {
   "cell_type": "code",
   "execution_count": 124,
   "metadata": {},
   "outputs": [],
   "source": [
    "import os\n",
    "from os import listdir\n",
    "import matplotlib.pyplot as plt\n",
    "import seaborn as sns\n",
    "import pandas as pd\n",
    "import numpy as np\n",
    "import sklearn\n",
    "from sklearn.model_selection import train_test_split\n",
    "from sklearn.tree import DecisionTreeRegressor\n",
    "from sklearn.model_selection import GridSearchCV\n",
    "from sklearn import preprocessing\n",
    "from sklearn.metrics import mean_absolute_error\n",
    "import matplotlib.pyplot as plt\n",
    "import scipy.stats as ss\n",
    "import scipy\n",
    "import scipy.stats as stats\n",
    "from sklearn.preprocessing import OneHotEncoder\n",
    "from sklearn.metrics import accuracy_score, f1_score, mean_absolute_error\n",
    "from sklearn.preprocessing import MinMaxScaler\n",
    "from sklearn.model_selection import cross_val_score\n",
    "from sklearn.neighbors import KNeighborsRegressor\n",
    "import warnings\n",
    "from IPython.display import Image \n",
    "from sklearn.ensemble import BaggingRegressor\n",
    "from sklearn.svm import SVR\n",
    "from sklearn.ensemble import RandomForestRegressor\n",
    "from sklearn.ensemble import GradientBoostingRegressor\n",
    "from sklearn.linear_model import ElasticNet\n",
    "from sklearn.neural_network import MLPRegressor\n",
    "from sklearn import preprocessing\n",
    "from sklearn.ensemble import StackingRegressor\n",
    "from sklearn.preprocessing import RobustScaler\n",
    "import seaborn as sns\n",
    "from scipy.stats import norm\n",
    "from scipy.stats import shapiro\n",
    "from scipy.optimize import minimize\n",
    "from sklearn.ensemble import RandomForestClassifier\n",
    "from sklearn.linear_model import LogisticRegression\n",
    "from sklearn.metrics import log_loss\n",
    "from sklearn.impute import SimpleImputer\n",
    "from sklearn.experimental import enable_iterative_imputer\n",
    "from sklearn.impute import IterativeImputer\n",
    "from sklearn.ensemble import RandomForestClassifier\n",
    "from sklearn.model_selection import cross_val_score\n",
    "from sklearn.model_selection import RepeatedStratifiedKFold\n",
    "from sklearn.pipeline import Pipeline\n",
    "from sklearn.metrics import mean_squared_error\n",
    "#import missingno as mno\n",
    "\n",
    "warnings.simplefilter(action='ignore', category=FutureWarning)\n",
    "pd.set_option('display.max_columns', None)\n",
    "pd.set_option('display.max_rows', 40)"
   ]
  },
  {
   "cell_type": "code",
   "execution_count": 69,
   "metadata": {},
   "outputs": [
    {
     "data": {
      "text/plain": [
       "'/Users/cristina/Desktop/Finance/ProgettoFinance/Dataset'"
      ]
     },
     "execution_count": 69,
     "metadata": {},
     "output_type": "execute_result"
    }
   ],
   "source": [
    "os.getcwd()"
   ]
  },
  {
   "cell_type": "code",
   "execution_count": 70,
   "metadata": {},
   "outputs": [],
   "source": [
    "dataframe = pd.read_csv('Most-Recent-Cohorts-All-Data-Elements.csv', low_memory=False)"
   ]
  },
  {
   "cell_type": "markdown",
   "metadata": {},
   "source": [
    "## Choose the features that we need in our analysis "
   ]
  },
  {
   "cell_type": "code",
   "execution_count": 71,
   "metadata": {},
   "outputs": [],
   "source": [
    "dataframe = dataframe[['CDR3','INSTNM','SAT_AVG','C150_4', 'C150_L4','COMPL_RPY_3YR_RT','NONCOM_RPY_3YR_RT',\n",
    "                       'GRAD_DEBT_MDN', 'PCTFLOAN', 'MD_EARN_WNE_P8','MEDIAN_HH_INC','COUNT_WNE_INC1_P10', \n",
    "                       'COUNT_WNE_INC2_P10','COUNT_WNE_INC3_P10','ICLEVEL', 'UGDS', 'CONTROL', 'COSTT4_A', \n",
    "                       'COSTT4_P', 'HIGHDEG']] "
   ]
  },
  {
   "cell_type": "markdown",
   "metadata": {},
   "source": [
    "## Split into train and test sets before the pre-processing"
   ]
  },
  {
   "cell_type": "code",
   "execution_count": 72,
   "metadata": {},
   "outputs": [
    {
     "name": "stdout",
     "output_type": "stream",
     "text": [
      "(5879, 20)\n",
      "(927, 20)\n"
     ]
    }
   ],
   "source": [
    "df = dataframe[dataframe['CDR3'].notnull()]\n",
    "test = dataframe[dataframe.CDR3.isnull()]\n",
    "print(df.shape)\n",
    "print(test.shape)"
   ]
  },
  {
   "cell_type": "markdown",
   "metadata": {},
   "source": [
    "## Preprocessing"
   ]
  },
  {
   "cell_type": "code",
   "execution_count": 73,
   "metadata": {},
   "outputs": [],
   "source": [
    "df = df.sample(frac=1, random_state=1)"
   ]
  },
  {
   "cell_type": "code",
   "execution_count": 74,
   "metadata": {},
   "outputs": [
    {
     "data": {
      "text/plain": [
       "(5879, 20)"
      ]
     },
     "execution_count": 74,
     "metadata": {},
     "output_type": "execute_result"
    }
   ],
   "source": [
    "df.shape"
   ]
  },
  {
   "cell_type": "code",
   "execution_count": 75,
   "metadata": {},
   "outputs": [
    {
     "data": {
      "text/html": [
       "<div>\n",
       "<style scoped>\n",
       "    .dataframe tbody tr th:only-of-type {\n",
       "        vertical-align: middle;\n",
       "    }\n",
       "\n",
       "    .dataframe tbody tr th {\n",
       "        vertical-align: top;\n",
       "    }\n",
       "\n",
       "    .dataframe thead th {\n",
       "        text-align: right;\n",
       "    }\n",
       "</style>\n",
       "<table border=\"1\" class=\"dataframe\">\n",
       "  <thead>\n",
       "    <tr style=\"text-align: right;\">\n",
       "      <th></th>\n",
       "      <th>CDR3</th>\n",
       "      <th>INSTNM</th>\n",
       "      <th>SAT_AVG</th>\n",
       "      <th>C150_4</th>\n",
       "      <th>C150_L4</th>\n",
       "      <th>COMPL_RPY_3YR_RT</th>\n",
       "      <th>NONCOM_RPY_3YR_RT</th>\n",
       "      <th>GRAD_DEBT_MDN</th>\n",
       "      <th>PCTFLOAN</th>\n",
       "      <th>MD_EARN_WNE_P8</th>\n",
       "      <th>MEDIAN_HH_INC</th>\n",
       "      <th>COUNT_WNE_INC1_P10</th>\n",
       "      <th>COUNT_WNE_INC2_P10</th>\n",
       "      <th>COUNT_WNE_INC3_P10</th>\n",
       "      <th>ICLEVEL</th>\n",
       "      <th>UGDS</th>\n",
       "      <th>CONTROL</th>\n",
       "      <th>COSTT4_A</th>\n",
       "      <th>COSTT4_P</th>\n",
       "      <th>HIGHDEG</th>\n",
       "    </tr>\n",
       "  </thead>\n",
       "  <tbody>\n",
       "    <tr>\n",
       "      <th>5836</th>\n",
       "      <td>0.072</td>\n",
       "      <td>California Technical Academy</td>\n",
       "      <td>NaN</td>\n",
       "      <td>NaN</td>\n",
       "      <td>0.8750</td>\n",
       "      <td>PrivacySuppressed</td>\n",
       "      <td>PrivacySuppressed</td>\n",
       "      <td>7568</td>\n",
       "      <td>0.1286</td>\n",
       "      <td>NaN</td>\n",
       "      <td>NaN</td>\n",
       "      <td>NaN</td>\n",
       "      <td>NaN</td>\n",
       "      <td>NaN</td>\n",
       "      <td>3</td>\n",
       "      <td>778.0</td>\n",
       "      <td>3</td>\n",
       "      <td>NaN</td>\n",
       "      <td>22280.0</td>\n",
       "      <td>1</td>\n",
       "    </tr>\n",
       "    <tr>\n",
       "      <th>4926</th>\n",
       "      <td>0.254</td>\n",
       "      <td>Florida Academy of Health &amp; Beauty</td>\n",
       "      <td>NaN</td>\n",
       "      <td>NaN</td>\n",
       "      <td>0.8750</td>\n",
       "      <td>PrivacySuppressed</td>\n",
       "      <td>PrivacySuppressed</td>\n",
       "      <td>5500</td>\n",
       "      <td>0.5085</td>\n",
       "      <td>PrivacySuppressed</td>\n",
       "      <td>NaN</td>\n",
       "      <td>PrivacySuppressed</td>\n",
       "      <td>PrivacySuppressed</td>\n",
       "      <td>PrivacySuppressed</td>\n",
       "      <td>3</td>\n",
       "      <td>43.0</td>\n",
       "      <td>3</td>\n",
       "      <td>NaN</td>\n",
       "      <td>18048.0</td>\n",
       "      <td>1</td>\n",
       "    </tr>\n",
       "    <tr>\n",
       "      <th>1501</th>\n",
       "      <td>0.066</td>\n",
       "      <td>Lowell Academy Hairstyling Institute</td>\n",
       "      <td>NaN</td>\n",
       "      <td>NaN</td>\n",
       "      <td>0.5918</td>\n",
       "      <td>0.4347826087</td>\n",
       "      <td>0.2666666667</td>\n",
       "      <td>7433</td>\n",
       "      <td>0.9024</td>\n",
       "      <td>20600</td>\n",
       "      <td>76078.56</td>\n",
       "      <td>PrivacySuppressed</td>\n",
       "      <td>PrivacySuppressed</td>\n",
       "      <td>PrivacySuppressed</td>\n",
       "      <td>3</td>\n",
       "      <td>95.0</td>\n",
       "      <td>3</td>\n",
       "      <td>NaN</td>\n",
       "      <td>18184.0</td>\n",
       "      <td>1</td>\n",
       "    </tr>\n",
       "  </tbody>\n",
       "</table>\n",
       "</div>"
      ],
      "text/plain": [
       "       CDR3                                INSTNM  SAT_AVG  C150_4  C150_L4  \\\n",
       "5836  0.072          California Technical Academy      NaN     NaN   0.8750   \n",
       "4926  0.254    Florida Academy of Health & Beauty      NaN     NaN   0.8750   \n",
       "1501  0.066  Lowell Academy Hairstyling Institute      NaN     NaN   0.5918   \n",
       "\n",
       "       COMPL_RPY_3YR_RT  NONCOM_RPY_3YR_RT GRAD_DEBT_MDN  PCTFLOAN  \\\n",
       "5836  PrivacySuppressed  PrivacySuppressed          7568    0.1286   \n",
       "4926  PrivacySuppressed  PrivacySuppressed          5500    0.5085   \n",
       "1501       0.4347826087       0.2666666667          7433    0.9024   \n",
       "\n",
       "         MD_EARN_WNE_P8 MEDIAN_HH_INC COUNT_WNE_INC1_P10 COUNT_WNE_INC2_P10  \\\n",
       "5836                NaN           NaN                NaN                NaN   \n",
       "4926  PrivacySuppressed           NaN  PrivacySuppressed  PrivacySuppressed   \n",
       "1501              20600      76078.56  PrivacySuppressed  PrivacySuppressed   \n",
       "\n",
       "     COUNT_WNE_INC3_P10  ICLEVEL   UGDS  CONTROL  COSTT4_A  COSTT4_P  HIGHDEG  \n",
       "5836                NaN        3  778.0        3       NaN   22280.0        1  \n",
       "4926  PrivacySuppressed        3   43.0        3       NaN   18048.0        1  \n",
       "1501  PrivacySuppressed        3   95.0        3       NaN   18184.0        1  "
      ]
     },
     "execution_count": 75,
     "metadata": {},
     "output_type": "execute_result"
    }
   ],
   "source": [
    "df.head(3)"
   ]
  },
  {
   "cell_type": "code",
   "execution_count": 76,
   "metadata": {},
   "outputs": [
    {
     "name": "stdout",
     "output_type": "stream",
     "text": [
      "<class 'pandas.core.frame.DataFrame'>\n",
      "Int64Index: 5879 entries, 5836 to 5775\n",
      "Data columns (total 20 columns):\n",
      " #   Column              Non-Null Count  Dtype  \n",
      "---  ------              --------------  -----  \n",
      " 0   CDR3                5879 non-null   float64\n",
      " 1   INSTNM              5879 non-null   object \n",
      " 2   SAT_AVG             1280 non-null   float64\n",
      " 3   C150_4              2166 non-null   float64\n",
      " 4   C150_L4             2713 non-null   float64\n",
      " 5   COMPL_RPY_3YR_RT    5568 non-null   object \n",
      " 6   NONCOM_RPY_3YR_RT   5568 non-null   object \n",
      " 7   GRAD_DEBT_MDN       5749 non-null   object \n",
      " 8   PCTFLOAN            5157 non-null   float64\n",
      " 9   MD_EARN_WNE_P8      5009 non-null   object \n",
      " 10  MEDIAN_HH_INC       4290 non-null   object \n",
      " 11  COUNT_WNE_INC1_P10  5009 non-null   object \n",
      " 12  COUNT_WNE_INC2_P10  5009 non-null   object \n",
      " 13  COUNT_WNE_INC3_P10  5009 non-null   object \n",
      " 14  ICLEVEL             5879 non-null   int64  \n",
      " 15  UGDS                5171 non-null   float64\n",
      " 16  CONTROL             5879 non-null   int64  \n",
      " 17  COSTT4_A            3148 non-null   float64\n",
      " 18  COSTT4_P            1716 non-null   float64\n",
      " 19  HIGHDEG             5879 non-null   int64  \n",
      "dtypes: float64(8), int64(3), object(9)\n",
      "memory usage: 964.5+ KB\n",
      "None\n",
      "(5879, 20)\n"
     ]
    }
   ],
   "source": [
    "print(df.info(verbose=True))\n",
    "print(df.shape)"
   ]
  },
  {
   "cell_type": "code",
   "execution_count": 77,
   "metadata": {},
   "outputs": [
    {
     "name": "stdout",
     "output_type": "stream",
     "text": [
      "CDR3                     0\n",
      "INSTNM                   0\n",
      "SAT_AVG               4599\n",
      "C150_4                3713\n",
      "C150_L4               3166\n",
      "COMPL_RPY_3YR_RT       311\n",
      "NONCOM_RPY_3YR_RT      311\n",
      "GRAD_DEBT_MDN          130\n",
      "PCTFLOAN               722\n",
      "MD_EARN_WNE_P8         870\n",
      "MEDIAN_HH_INC         1589\n",
      "COUNT_WNE_INC1_P10     870\n",
      "COUNT_WNE_INC2_P10     870\n",
      "COUNT_WNE_INC3_P10     870\n",
      "ICLEVEL                  0\n",
      "UGDS                   708\n",
      "CONTROL                  0\n",
      "COSTT4_A              2731\n",
      "COSTT4_P              4163\n",
      "HIGHDEG                  0\n",
      "dtype: int64\n"
     ]
    }
   ],
   "source": [
    "print(df.isnull().sum())"
   ]
  },
  {
   "cell_type": "markdown",
   "metadata": {},
   "source": [
    "Some numeric columns are classified as object because they contained some 'PrivacySuppressed' data or null values. The presence of these values hinders the predictive ability of our features. We can either opt for removing the entire rows containing such data or converting these values into NA and then imputing them using different methods. We will opt for the first option in some case where they seem to be non-random missing values, while in the other cases we will opt for the second option. Missing values, then, will be imputed later on."
   ]
  },
  {
   "cell_type": "code",
   "execution_count": 78,
   "metadata": {},
   "outputs": [
    {
     "name": "stdout",
     "output_type": "stream",
     "text": [
      "603\n",
      "992\n",
      "498\n",
      "890\n",
      "1547\n",
      "78\n",
      "(3786, 20)\n"
     ]
    }
   ],
   "source": [
    "#train\n",
    "print(len(df[df['GRAD_DEBT_MDN'] == \"PrivacySuppressed\"]))\n",
    "print(len(df[df['COMPL_RPY_3YR_RT'] == \"PrivacySuppressed\"]))\n",
    "print(len(df[df['MD_EARN_WNE_P8'] == \"PrivacySuppressed\"]))\n",
    "print(len(df[df['COUNT_WNE_INC1_P10'] == \"PrivacySuppressed\"]))\n",
    "print(len(df[df['COUNT_WNE_INC3_P10'] == \"PrivacySuppressed\"]))\n",
    "print(len(df[df['MEDIAN_HH_INC'] == \"PrivacySuppressed\"]))\n",
    "df = df[(df['GRAD_DEBT_MDN'] != \"PrivacySuppressed\") ]\n",
    "df = df[(df['COMPL_RPY_3YR_RT'] != 'PrivacySuppressed')]\n",
    "df = df[df['MD_EARN_WNE_P8'] != 'PrivacySuppressed']\n",
    "df = df[df['COUNT_WNE_INC1_P10'] != 'PrivacySuppressed']\n",
    "df = df[df['COUNT_WNE_INC3_P10'] != 'PrivacySuppressed']\n",
    "df = df[df['MEDIAN_HH_INC'] != 'PrivacySuppressed']\n",
    "print(df.shape)"
   ]
  },
  {
   "cell_type": "code",
   "execution_count": 79,
   "metadata": {},
   "outputs": [
    {
     "name": "stdout",
     "output_type": "stream",
     "text": [
      "639\n",
      "48\n",
      "127\n",
      "234\n",
      "467\n",
      "10\n",
      "(251, 20)\n"
     ]
    }
   ],
   "source": [
    "#test\n",
    "print(len(test[test['GRAD_DEBT_MDN'] == \"PrivacySuppressed\"]))\n",
    "print(len(test[test['COMPL_RPY_3YR_RT'] == \"PrivacySuppressed\"]))\n",
    "print(len(test[test['MD_EARN_WNE_P8'] == \"PrivacySuppressed\"]))\n",
    "print(len(test[test['COUNT_WNE_INC1_P10'] == \"PrivacySuppressed\"]))\n",
    "print(len(test[test['COUNT_WNE_INC3_P10'] == \"PrivacySuppressed\"]))\n",
    "print(len(test[test['MEDIAN_HH_INC'] == \"PrivacySuppressed\"]))\n",
    "test = test[(test['GRAD_DEBT_MDN'] != \"PrivacySuppressed\") ]\n",
    "test = test[(test['COMPL_RPY_3YR_RT'] != 'PrivacySuppressed')]\n",
    "test = test[test['MD_EARN_WNE_P8'] != 'PrivacySuppressed']\n",
    "test = test[test['COUNT_WNE_INC1_P10'] != 'PrivacySuppressed']\n",
    "test = test[test['COUNT_WNE_INC3_P10'] != 'PrivacySuppressed']\n",
    "test = test[test['MEDIAN_HH_INC'] != 'PrivacySuppressed']\n",
    "print(test.shape)"
   ]
  },
  {
   "cell_type": "code",
   "execution_count": 80,
   "metadata": {},
   "outputs": [],
   "source": [
    "#train\n",
    "df['COMPL_RPY_3YR_RT'] = df['COMPL_RPY_3YR_RT'].astype(str).astype(float)\n",
    "df['NONCOM_RPY_3YR_RT'] = df['NONCOM_RPY_3YR_RT'].astype(str).astype(float)\n",
    "df['GRAD_DEBT_MDN'] = df['GRAD_DEBT_MDN'].astype(str).astype(float)\n",
    "df['MD_EARN_WNE_P8'] = df['MD_EARN_WNE_P8'].astype(str).astype(float)\n",
    "df['COUNT_WNE_INC1_P10'] = df['COUNT_WNE_INC1_P10'].astype(str).astype(float)\n",
    "df['COUNT_WNE_INC2_P10'] = df['COUNT_WNE_INC2_P10'].astype(str).astype(float)\n",
    "df['COUNT_WNE_INC3_P10'] = df['COUNT_WNE_INC3_P10'].astype(str).astype(float)\n",
    "df['MEDIAN_HH_INC'] = df['MEDIAN_HH_INC'].astype(str).astype(float)"
   ]
  },
  {
   "cell_type": "code",
   "execution_count": 81,
   "metadata": {},
   "outputs": [],
   "source": [
    "#test\n",
    "test['COMPL_RPY_3YR_RT'] = test['COMPL_RPY_3YR_RT'].astype(str).astype(float)\n",
    "test['NONCOM_RPY_3YR_RT'] = test['NONCOM_RPY_3YR_RT'].astype(str).astype(float)\n",
    "test['GRAD_DEBT_MDN'] = test['GRAD_DEBT_MDN'].astype(str).astype(float)\n",
    "test['MD_EARN_WNE_P8'] = test['MD_EARN_WNE_P8'].astype(str).astype(float)\n",
    "test['COUNT_WNE_INC1_P10'] = test['COUNT_WNE_INC1_P10'].astype(str).astype(float)\n",
    "test['COUNT_WNE_INC2_P10'] = test['COUNT_WNE_INC2_P10'].astype(str).astype(float)\n",
    "test['COUNT_WNE_INC3_P10'] = test['COUNT_WNE_INC3_P10'].astype(str).astype(float)\n",
    "test['MEDIAN_HH_INC'] = test['MEDIAN_HH_INC'].astype(str).astype(float)"
   ]
  },
  {
   "cell_type": "code",
   "execution_count": 82,
   "metadata": {},
   "outputs": [
    {
     "data": {
      "text/html": [
       "<div>\n",
       "<style scoped>\n",
       "    .dataframe tbody tr th:only-of-type {\n",
       "        vertical-align: middle;\n",
       "    }\n",
       "\n",
       "    .dataframe tbody tr th {\n",
       "        vertical-align: top;\n",
       "    }\n",
       "\n",
       "    .dataframe thead th {\n",
       "        text-align: right;\n",
       "    }\n",
       "</style>\n",
       "<table border=\"1\" class=\"dataframe\">\n",
       "  <thead>\n",
       "    <tr style=\"text-align: right;\">\n",
       "      <th></th>\n",
       "      <th>CDR3</th>\n",
       "      <th>SAT_AVG</th>\n",
       "      <th>C150_4</th>\n",
       "      <th>C150_L4</th>\n",
       "      <th>COMPL_RPY_3YR_RT</th>\n",
       "      <th>NONCOM_RPY_3YR_RT</th>\n",
       "      <th>GRAD_DEBT_MDN</th>\n",
       "      <th>PCTFLOAN</th>\n",
       "      <th>MD_EARN_WNE_P8</th>\n",
       "      <th>MEDIAN_HH_INC</th>\n",
       "      <th>COUNT_WNE_INC1_P10</th>\n",
       "      <th>COUNT_WNE_INC2_P10</th>\n",
       "      <th>COUNT_WNE_INC3_P10</th>\n",
       "      <th>ICLEVEL</th>\n",
       "      <th>UGDS</th>\n",
       "      <th>CONTROL</th>\n",
       "      <th>COSTT4_A</th>\n",
       "      <th>COSTT4_P</th>\n",
       "      <th>HIGHDEG</th>\n",
       "    </tr>\n",
       "  </thead>\n",
       "  <tbody>\n",
       "    <tr>\n",
       "      <th>count</th>\n",
       "      <td>3786.000000</td>\n",
       "      <td>1212.000000</td>\n",
       "      <td>1881.000000</td>\n",
       "      <td>1314.000000</td>\n",
       "      <td>3598.000000</td>\n",
       "      <td>3598.000000</td>\n",
       "      <td>3668.000000</td>\n",
       "      <td>3352.000000</td>\n",
       "      <td>3334.000000</td>\n",
       "      <td>2906.000000</td>\n",
       "      <td>3334.000000</td>\n",
       "      <td>3334.000000</td>\n",
       "      <td>3334.000000</td>\n",
       "      <td>3786.000000</td>\n",
       "      <td>3357.000000</td>\n",
       "      <td>3786.000000</td>\n",
       "      <td>2544.000000</td>\n",
       "      <td>665.000000</td>\n",
       "      <td>3786.000000</td>\n",
       "    </tr>\n",
       "    <tr>\n",
       "      <th>mean</th>\n",
       "      <td>0.104838</td>\n",
       "      <td>1139.191419</td>\n",
       "      <td>0.513737</td>\n",
       "      <td>0.497277</td>\n",
       "      <td>0.601202</td>\n",
       "      <td>0.399106</td>\n",
       "      <td>18338.647492</td>\n",
       "      <td>0.518199</td>\n",
       "      <td>35238.602280</td>\n",
       "      <td>60959.016721</td>\n",
       "      <td>1095.669466</td>\n",
       "      <td>987.862028</td>\n",
       "      <td>716.612178</td>\n",
       "      <td>1.516112</td>\n",
       "      <td>3949.364015</td>\n",
       "      <td>1.928685</td>\n",
       "      <td>29316.481525</td>\n",
       "      <td>22881.497744</td>\n",
       "      <td>2.570523</td>\n",
       "    </tr>\n",
       "    <tr>\n",
       "      <th>std</th>\n",
       "      <td>0.066453</td>\n",
       "      <td>121.302434</td>\n",
       "      <td>0.204704</td>\n",
       "      <td>0.231314</td>\n",
       "      <td>0.175852</td>\n",
       "      <td>0.167664</td>\n",
       "      <td>7942.603701</td>\n",
       "      <td>0.229910</td>\n",
       "      <td>10931.287475</td>\n",
       "      <td>11339.403497</td>\n",
       "      <td>2633.030373</td>\n",
       "      <td>3321.010119</td>\n",
       "      <td>2046.403210</td>\n",
       "      <td>0.708789</td>\n",
       "      <td>7000.575104</td>\n",
       "      <td>0.812509</td>\n",
       "      <td>16181.685883</td>\n",
       "      <td>5271.718463</td>\n",
       "      <td>1.400667</td>\n",
       "    </tr>\n",
       "    <tr>\n",
       "      <th>min</th>\n",
       "      <td>0.000000</td>\n",
       "      <td>785.000000</td>\n",
       "      <td>0.000000</td>\n",
       "      <td>0.000000</td>\n",
       "      <td>0.090517</td>\n",
       "      <td>0.092624</td>\n",
       "      <td>2334.000000</td>\n",
       "      <td>0.000000</td>\n",
       "      <td>15500.000000</td>\n",
       "      <td>17277.840000</td>\n",
       "      <td>26.000000</td>\n",
       "      <td>25.000000</td>\n",
       "      <td>25.000000</td>\n",
       "      <td>1.000000</td>\n",
       "      <td>0.000000</td>\n",
       "      <td>1.000000</td>\n",
       "      <td>6419.000000</td>\n",
       "      <td>8742.000000</td>\n",
       "      <td>0.000000</td>\n",
       "    </tr>\n",
       "    <tr>\n",
       "      <th>25%</th>\n",
       "      <td>0.050000</td>\n",
       "      <td>1059.000000</td>\n",
       "      <td>0.369100</td>\n",
       "      <td>0.287500</td>\n",
       "      <td>0.461898</td>\n",
       "      <td>0.252735</td>\n",
       "      <td>10664.000000</td>\n",
       "      <td>0.354875</td>\n",
       "      <td>28000.000000</td>\n",
       "      <td>52801.310000</td>\n",
       "      <td>163.000000</td>\n",
       "      <td>162.000000</td>\n",
       "      <td>81.000000</td>\n",
       "      <td>1.000000</td>\n",
       "      <td>396.000000</td>\n",
       "      <td>1.000000</td>\n",
       "      <td>15661.500000</td>\n",
       "      <td>19084.000000</td>\n",
       "      <td>2.000000</td>\n",
       "    </tr>\n",
       "    <tr>\n",
       "      <th>50%</th>\n",
       "      <td>0.097000</td>\n",
       "      <td>1123.500000</td>\n",
       "      <td>0.517800</td>\n",
       "      <td>0.488700</td>\n",
       "      <td>0.609965</td>\n",
       "      <td>0.389831</td>\n",
       "      <td>19500.000000</td>\n",
       "      <td>0.553000</td>\n",
       "      <td>33700.000000</td>\n",
       "      <td>60216.425000</td>\n",
       "      <td>444.000000</td>\n",
       "      <td>331.000000</td>\n",
       "      <td>220.000000</td>\n",
       "      <td>1.000000</td>\n",
       "      <td>1383.000000</td>\n",
       "      <td>2.000000</td>\n",
       "      <td>24918.500000</td>\n",
       "      <td>22223.000000</td>\n",
       "      <td>3.000000</td>\n",
       "    </tr>\n",
       "    <tr>\n",
       "      <th>75%</th>\n",
       "      <td>0.147000</td>\n",
       "      <td>1197.250000</td>\n",
       "      <td>0.655600</td>\n",
       "      <td>0.697975</td>\n",
       "      <td>0.743333</td>\n",
       "      <td>0.526176</td>\n",
       "      <td>25000.000000</td>\n",
       "      <td>0.692075</td>\n",
       "      <td>40200.000000</td>\n",
       "      <td>68625.572500</td>\n",
       "      <td>1096.500000</td>\n",
       "      <td>799.000000</td>\n",
       "      <td>567.500000</td>\n",
       "      <td>2.000000</td>\n",
       "      <td>4117.000000</td>\n",
       "      <td>3.000000</td>\n",
       "      <td>39971.500000</td>\n",
       "      <td>26645.000000</td>\n",
       "      <td>4.000000</td>\n",
       "    </tr>\n",
       "    <tr>\n",
       "      <th>max</th>\n",
       "      <td>0.595000</td>\n",
       "      <td>1545.000000</td>\n",
       "      <td>1.000000</td>\n",
       "      <td>1.000000</td>\n",
       "      <td>0.970646</td>\n",
       "      <td>0.906863</td>\n",
       "      <td>46212.000000</td>\n",
       "      <td>1.000000</td>\n",
       "      <td>125900.000000</td>\n",
       "      <td>98890.710000</td>\n",
       "      <td>30518.000000</td>\n",
       "      <td>41362.000000</td>\n",
       "      <td>22844.000000</td>\n",
       "      <td>3.000000</td>\n",
       "      <td>88921.000000</td>\n",
       "      <td>3.000000</td>\n",
       "      <td>75735.000000</td>\n",
       "      <td>41275.000000</td>\n",
       "      <td>4.000000</td>\n",
       "    </tr>\n",
       "  </tbody>\n",
       "</table>\n",
       "</div>"
      ],
      "text/plain": [
       "              CDR3      SAT_AVG       C150_4      C150_L4  COMPL_RPY_3YR_RT  \\\n",
       "count  3786.000000  1212.000000  1881.000000  1314.000000       3598.000000   \n",
       "mean      0.104838  1139.191419     0.513737     0.497277          0.601202   \n",
       "std       0.066453   121.302434     0.204704     0.231314          0.175852   \n",
       "min       0.000000   785.000000     0.000000     0.000000          0.090517   \n",
       "25%       0.050000  1059.000000     0.369100     0.287500          0.461898   \n",
       "50%       0.097000  1123.500000     0.517800     0.488700          0.609965   \n",
       "75%       0.147000  1197.250000     0.655600     0.697975          0.743333   \n",
       "max       0.595000  1545.000000     1.000000     1.000000          0.970646   \n",
       "\n",
       "       NONCOM_RPY_3YR_RT  GRAD_DEBT_MDN     PCTFLOAN  MD_EARN_WNE_P8  \\\n",
       "count        3598.000000    3668.000000  3352.000000     3334.000000   \n",
       "mean            0.399106   18338.647492     0.518199    35238.602280   \n",
       "std             0.167664    7942.603701     0.229910    10931.287475   \n",
       "min             0.092624    2334.000000     0.000000    15500.000000   \n",
       "25%             0.252735   10664.000000     0.354875    28000.000000   \n",
       "50%             0.389831   19500.000000     0.553000    33700.000000   \n",
       "75%             0.526176   25000.000000     0.692075    40200.000000   \n",
       "max             0.906863   46212.000000     1.000000   125900.000000   \n",
       "\n",
       "       MEDIAN_HH_INC  COUNT_WNE_INC1_P10  COUNT_WNE_INC2_P10  \\\n",
       "count    2906.000000         3334.000000         3334.000000   \n",
       "mean    60959.016721         1095.669466          987.862028   \n",
       "std     11339.403497         2633.030373         3321.010119   \n",
       "min     17277.840000           26.000000           25.000000   \n",
       "25%     52801.310000          163.000000          162.000000   \n",
       "50%     60216.425000          444.000000          331.000000   \n",
       "75%     68625.572500         1096.500000          799.000000   \n",
       "max     98890.710000        30518.000000        41362.000000   \n",
       "\n",
       "       COUNT_WNE_INC3_P10      ICLEVEL          UGDS      CONTROL  \\\n",
       "count         3334.000000  3786.000000   3357.000000  3786.000000   \n",
       "mean           716.612178     1.516112   3949.364015     1.928685   \n",
       "std           2046.403210     0.708789   7000.575104     0.812509   \n",
       "min             25.000000     1.000000      0.000000     1.000000   \n",
       "25%             81.000000     1.000000    396.000000     1.000000   \n",
       "50%            220.000000     1.000000   1383.000000     2.000000   \n",
       "75%            567.500000     2.000000   4117.000000     3.000000   \n",
       "max          22844.000000     3.000000  88921.000000     3.000000   \n",
       "\n",
       "           COSTT4_A      COSTT4_P      HIGHDEG  \n",
       "count   2544.000000    665.000000  3786.000000  \n",
       "mean   29316.481525  22881.497744     2.570523  \n",
       "std    16181.685883   5271.718463     1.400667  \n",
       "min     6419.000000   8742.000000     0.000000  \n",
       "25%    15661.500000  19084.000000     2.000000  \n",
       "50%    24918.500000  22223.000000     3.000000  \n",
       "75%    39971.500000  26645.000000     4.000000  \n",
       "max    75735.000000  41275.000000     4.000000  "
      ]
     },
     "execution_count": 82,
     "metadata": {},
     "output_type": "execute_result"
    }
   ],
   "source": [
    "df.describe()"
   ]
  },
  {
   "cell_type": "code",
   "execution_count": 83,
   "metadata": {},
   "outputs": [],
   "source": [
    "numeric_cols = ['SAT_AVG', 'C150_4', 'C150_L4', 'PCTFLOAN', 'UGDS', 'COSTT4_A', 'COSTT4_P','COMPL_RPY_3YR_RT', 'NONCOM_RPY_3YR_RT', 'GRAD_DEBT_MDN', 'MD_EARN_WNE_P8', 'MEDIAN_HH_INC',\n",
    "            'COUNT_WNE_INC1_P10', 'COUNT_WNE_INC2_P10', 'COUNT_WNE_INC3_P10']\n",
    "discrete_cols = ['INSTNM','ICLEVEL', 'CONTROL', 'HIGHDEG']"
   ]
  },
  {
   "cell_type": "code",
   "execution_count": 84,
   "metadata": {
    "scrolled": true
   },
   "outputs": [
    {
     "data": {
      "image/png": "[encoded data removed]",
      "text/plain": [
       "<Figure size 432x288 with 1 Axes>"
      ]
     },
     "metadata": {
      "needs_background": "light"
     },
     "output_type": "display_data"
    },
    {
     "data": {
      "image/png": "[encoded data removed]",
      "text/plain": [
       "<Figure size 432x288 with 1 Axes>"
      ]
     },
     "metadata": {
      "needs_background": "light"
     },
     "output_type": "display_data"
    },
    {
     "data": {
      "image/png": "[encoded data removed]",
      "text/plain": [
       "<Figure size 432x288 with 1 Axes>"
      ]
     },
     "metadata": {
      "needs_background": "light"
     },
     "output_type": "display_data"
    },
    {
     "data": {
      "image/png": "[encoded data removed]",
      "text/plain": [
       "<Figure size 432x288 with 1 Axes>"
      ]
     },
     "metadata": {
      "needs_background": "light"
     },
     "output_type": "display_data"
    },
    {
     "data": {
      "image/png": "[encoded data removed]",
      "text/plain": [
       "<Figure size 432x288 with 1 Axes>"
      ]
     },
     "metadata": {
      "needs_background": "light"
     },
     "output_type": "display_data"
    },
    {
     "data": {
      "image/png": "[encoded data removed]",
      "text/plain": [
       "<Figure size 432x288 with 1 Axes>"
      ]
     },
     "metadata": {
      "needs_background": "light"
     },
     "output_type": "display_data"
    },
    {
     "data": {
      "image/png": "[encoded data removed]",
      "text/plain": [
       "<Figure size 432x288 with 1 Axes>"
      ]
     },
     "metadata": {
      "needs_background": "light"
     },
     "output_type": "display_data"
    },
    {
     "data": {
      "image/png": "[encoded data removed]",
      "text/plain": [
       "<Figure size 432x288 with 1 Axes>"
      ]
     },
     "metadata": {
      "needs_background": "light"
     },
     "output_type": "display_data"
    },
    {
     "data": {
      "image/png": "[encoded data removed]",
      "text/plain": [
       "<Figure size 432x288 with 1 Axes>"
      ]
     },
     "metadata": {
      "needs_background": "light"
     },
     "output_type": "display_data"
    },
    {
     "data": {
      "image/png": "[encoded data removed]",
      "text/plain": [
       "<Figure size 432x288 with 1 Axes>"
      ]
     },
     "metadata": {
      "needs_background": "light"
     },
     "output_type": "display_data"
    },
    {
     "data": {
      "image/png": "[encoded data removed]",
      "text/plain": [
       "<Figure size 432x288 with 1 Axes>"
      ]
     },
     "metadata": {
      "needs_background": "light"
     },
     "output_type": "display_data"
    },
    {
     "data": {
      "image/png": "[encoded data removed]",
      "text/plain": [
       "<Figure size 432x288 with 1 Axes>"
      ]
     },
     "metadata": {
      "needs_background": "light"
     },
     "output_type": "display_data"
    },
    {
     "data": {
      "image/png": "[encoded data removed]",
      "text/plain": [
       "<Figure size 432x288 with 1 Axes>"
      ]
     },
     "metadata": {
      "needs_background": "light"
     },
     "output_type": "display_data"
    },
    {
     "data": {
      "image/png": "[encoded data removed]",
      "text/plain": [
       "<Figure size 432x288 with 1 Axes>"
      ]
     },
     "metadata": {
      "needs_background": "light"
     },
     "output_type": "display_data"
    },
    {
     "data": {
      "image/png": "[encoded data removed]",
      "text/plain": [
       "<Figure size 432x288 with 1 Axes>"
      ]
     },
     "metadata": {
      "needs_background": "light"
     },
     "output_type": "display_data"
    }
   ],
   "source": [
    "## Scatter plots for numerical variables\n",
    "for i in df[numeric_cols]:\n",
    "    plt.scatter(df[i].tolist(), df.CDR3.tolist())\n",
    "    plt.xlabel(\"X\")\n",
    "    plt.ylabel(\"Y\")\n",
    "    plt.show()\n",
    "    \n",
    "## NB: presence of outliers"
   ]
  },
  {
   "cell_type": "markdown",
   "metadata": {},
   "source": [
    "## COSTT4_A and COSTT4_P"
   ]
  },
  {
   "cell_type": "markdown",
   "metadata": {},
   "source": [
    "I will operate on COSTA and COSTP. From the data dictionary, COSTT4_A (COSTA) and COSTT4_P (COSTP) are the average costs of attendance for academic-year institutions and program-year institutions respectively. There are too many missing values and as obvious, some of them must be non-random NA values. This is because only the academic-year institutions will have a value for COSTA feature and NULL for the rest and vice-versa. I can go ahead and engineer a common feature representing the cost of attendance irrespective of whether the institute is an academic-year based or program-year."
   ]
  },
  {
   "cell_type": "code",
   "execution_count": 87,
   "metadata": {},
   "outputs": [
    {
     "name": "stderr",
     "output_type": "stream",
     "text": [
      "<ipython-input-87-18ce2f281c77>:2: SettingWithCopyWarning: \n",
      "A value is trying to be set on a copy of a slice from a DataFrame\n",
      "\n",
      "See the caveats in the documentation: https://pandas.pydata.org/pandas-docs/stable/user_guide/indexing.html#returning-a-view-versus-a-copy\n",
      "  df['COSTT4_A'][df['COSTT4_A'].isnull() & df['COSTT4_P'].notnull()] = 0\n",
      "<ipython-input-87-18ce2f281c77>:3: SettingWithCopyWarning: \n",
      "A value is trying to be set on a copy of a slice from a DataFrame\n",
      "\n",
      "See the caveats in the documentation: https://pandas.pydata.org/pandas-docs/stable/user_guide/indexing.html#returning-a-view-versus-a-copy\n",
      "  df['COSTT4_P'][df['COSTT4_P'].isnull() & df['COSTT4_A'].notnull()] = 0\n",
      "<ipython-input-87-18ce2f281c77>:10: SettingWithCopyWarning: \n",
      "A value is trying to be set on a copy of a slice from a DataFrame\n",
      "\n",
      "See the caveats in the documentation: https://pandas.pydata.org/pandas-docs/stable/user_guide/indexing.html#returning-a-view-versus-a-copy\n",
      "  test['COSTT4_A'][test['COSTT4_A'].isnull() & test['COSTT4_P'].notnull()] = 0\n",
      "<ipython-input-87-18ce2f281c77>:11: SettingWithCopyWarning: \n",
      "A value is trying to be set on a copy of a slice from a DataFrame\n",
      "\n",
      "See the caveats in the documentation: https://pandas.pydata.org/pandas-docs/stable/user_guide/indexing.html#returning-a-view-versus-a-copy\n",
      "  test['COSTT4_P'][test['COSTT4_P'].isnull() & test['COSTT4_A'].notnull()] = 0\n"
     ]
    }
   ],
   "source": [
    "#train set\n",
    "df['COSTT4_A'][df['COSTT4_A'].isnull() & df['COSTT4_P'].notnull()] = 0\n",
    "df['COSTT4_P'][df['COSTT4_P'].isnull() & df['COSTT4_A'].notnull()] = 0\n",
    "# now create a feature for the cost of attendance\n",
    "df['COST'] = df['COSTT4_A'] + df['COSTT4_P']\n",
    "df.drop([\"COSTT4_A\"], axis=1, inplace=True)\n",
    "df.drop([\"COSTT4_P\"], axis=1, inplace=True)\n",
    "\n",
    "#test set\n",
    "test['COSTT4_A'][test['COSTT4_A'].isnull() & test['COSTT4_P'].notnull()] = 0\n",
    "test['COSTT4_P'][test['COSTT4_P'].isnull() & test['COSTT4_A'].notnull()] = 0\n",
    "# now create a feature for the cost of attendance\n",
    "test['COST'] = test['COSTT4_A'] + test['COSTT4_P']\n",
    "test.drop([\"COSTT4_A\"], axis=1, inplace=True)\n",
    "test.drop([\"COSTT4_P\"], axis=1, inplace=True)"
   ]
  },
  {
   "attachments": {},
   "cell_type": "markdown",
   "metadata": {},
   "source": [
    "I will operate on C150_4 and C150_L4. From the data dictionary, C150_4 and C150_L4 are the proportion of full-time, first-time, degree/certificate-seeking undergraduates who completed a degree or certificate at the institution within 150 percent of normal time for 4-year institutions and less-than-4-year institutions respectively. There are too many missing values and as obvious, some of them must be non-random NA values. This is because only the 4-year institutions will have a value for C150 feature and NULL for the rest and vice-versa. I can go ahead and engineer a common feature representing the the proportion of undergraduates who completed a degree within 150 percent irrespective of whether the institute is 4-year or less."
   ]
  },
  {
   "cell_type": "code",
   "execution_count": 88,
   "metadata": {},
   "outputs": [
    {
     "name": "stderr",
     "output_type": "stream",
     "text": [
      "<ipython-input-88-9f77c0040012>:2: SettingWithCopyWarning: \n",
      "A value is trying to be set on a copy of a slice from a DataFrame\n",
      "\n",
      "See the caveats in the documentation: https://pandas.pydata.org/pandas-docs/stable/user_guide/indexing.html#returning-a-view-versus-a-copy\n",
      "  df['C150_4'][df['C150_4'].isnull() & df['C150_L4'].notnull()] = 0\n",
      "<ipython-input-88-9f77c0040012>:3: SettingWithCopyWarning: \n",
      "A value is trying to be set on a copy of a slice from a DataFrame\n",
      "\n",
      "See the caveats in the documentation: https://pandas.pydata.org/pandas-docs/stable/user_guide/indexing.html#returning-a-view-versus-a-copy\n",
      "  df['C150_L4'][df['C150_L4'].isnull() & df['C150_4'].notnull()] = 0\n",
      "<ipython-input-88-9f77c0040012>:10: SettingWithCopyWarning: \n",
      "A value is trying to be set on a copy of a slice from a DataFrame\n",
      "\n",
      "See the caveats in the documentation: https://pandas.pydata.org/pandas-docs/stable/user_guide/indexing.html#returning-a-view-versus-a-copy\n",
      "  test['C150_4'][test['C150_4'].isnull() & test['C150_L4'].notnull()] = 0\n",
      "<ipython-input-88-9f77c0040012>:11: SettingWithCopyWarning: \n",
      "A value is trying to be set on a copy of a slice from a DataFrame\n",
      "\n",
      "See the caveats in the documentation: https://pandas.pydata.org/pandas-docs/stable/user_guide/indexing.html#returning-a-view-versus-a-copy\n",
      "  test['C150_L4'][test['C150_L4'].isnull() & test['C150_4'].notnull()] = 0\n"
     ]
    }
   ],
   "source": [
    "#train set\n",
    "df['C150_4'][df['C150_4'].isnull() & df['C150_L4'].notnull()] = 0\n",
    "df['C150_L4'][df['C150_L4'].isnull() & df['C150_4'].notnull()] = 0\n",
    "# now create a feature for the cost of attendance\n",
    "df['C150'] = df['C150_L4'] + df['C150_4']\n",
    "df.drop([\"C150_L4\"], axis=1, inplace=True)\n",
    "df.drop([\"C150_4\"], axis=1, inplace=True)\n",
    "\n",
    "#test set\n",
    "test['C150_4'][test['C150_4'].isnull() & test['C150_L4'].notnull()] = 0\n",
    "test['C150_L4'][test['C150_L4'].isnull() & test['C150_4'].notnull()] = 0\n",
    "# now create a feature for the cost of attendance\n",
    "test['C150'] = test['C150_L4'] + test['C150_4']\n",
    "test.drop([\"C150_L4\"], axis=1, inplace=True)\n",
    "test.drop([\"C150_4\"], axis=1, inplace=True)"
   ]
  },
  {
   "cell_type": "markdown",
   "metadata": {},
   "source": [
    "## Feature selection"
   ]
  },
  {
   "cell_type": "code",
   "execution_count": 89,
   "metadata": {},
   "outputs": [
    {
     "name": "stdout",
     "output_type": "stream",
     "text": [
      "ICLEVEL ,  27.820491185861652 ,  1.5810175924266726e-07 ,  SIGNIFICANT\n",
      "CONTROL ,  8.263438937837178 ,  0.000272916358946998 ,  SIGNIFICANT\n",
      "HIGHDEG ,  21.024875947297634 ,  2.840998556916733e-13 ,  SIGNIFICANT\n"
     ]
    }
   ],
   "source": [
    "## Discrete variables\n",
    "# ANOVA test (to do without missing values)\n",
    "data = df.dropna()\n",
    "\n",
    "#ICLEVEL\n",
    "a = data[\"CDR3\"].loc[data['ICLEVEL'] == 1]\n",
    "b = data[\"CDR3\"].loc[data['ICLEVEL'] == 2]\n",
    "#c = data[\"CDR3\"].loc[data['ICLEVEL'] == 3]\n",
    "\n",
    "t,pval = stats.f_oneway(a,b)\n",
    "if pval < 0.025:\n",
    "    j = 'SIGNIFICANT'\n",
    "else:\n",
    "    j = 'INSIGNIFICANT'\n",
    "print(\"ICLEVEL\", ', ', t, ', ', pval, ', ', j)\n",
    "\n",
    "\n",
    "#CONTROL\n",
    "a = data[\"CDR3\"].loc[data['CONTROL'] == 1]\n",
    "b = data[\"CDR3\"].loc[data['CONTROL'] == 2]\n",
    "c = data[\"CDR3\"].loc[data['CONTROL'] == 3]\n",
    "\n",
    "t,pval = stats.f_oneway(a,b,c)\n",
    "if pval < 0.025:\n",
    "    j = 'SIGNIFICANT'\n",
    "else:\n",
    "    j = 'INSIGNIFICANT'\n",
    "print(\"CONTROL\", ', ', t, ', ', pval, ', ', j)\n",
    "\n",
    "#HIGHDEG\n",
    "a = data[\"CDR3\"].loc[data['HIGHDEG'] == 1]\n",
    "b = data[\"CDR3\"].loc[data['HIGHDEG'] == 2]\n",
    "c = data[\"CDR3\"].loc[data['HIGHDEG'] == 3]\n",
    "d = data[\"CDR3\"].loc[data['HIGHDEG'] == 4]\n",
    "\n",
    "t,pval = stats.f_oneway(a,b,c,d)\n",
    "if pval < 0.025:\n",
    "    j = 'SIGNIFICANT'\n",
    "else:\n",
    "    j = 'INSIGNIFICANT'\n",
    "print(\"HIGHDEG\", ', ', t, ', ', pval, ', ', j)"
   ]
  },
  {
   "cell_type": "code",
   "execution_count": 90,
   "metadata": {},
   "outputs": [
    {
     "data": {
      "image/png": "[encoded data removed]",
      "text/plain": [
       "<Figure size 1440x1440 with 2 Axes>"
      ]
     },
     "metadata": {},
     "output_type": "display_data"
    }
   ],
   "source": [
    "numeric_cols = ['SAT_AVG', 'C150', 'PCTFLOAN', 'UGDS', 'COST', 'COMPL_RPY_3YR_RT', 'NONCOM_RPY_3YR_RT', 'GRAD_DEBT_MDN', 'MD_EARN_WNE_P8', 'MEDIAN_HH_INC',\n",
    "            'COUNT_WNE_INC1_P10', 'COUNT_WNE_INC2_P10', 'COUNT_WNE_INC3_P10']\n",
    "\n",
    "corrMatrix = df[numeric_cols+['CDR3']].corr()\n",
    "mask = np.zeros_like(corrMatrix)\n",
    "mask[np.triu_indices_from(mask)] = True\n",
    "with sns.axes_style(\"white\"):\n",
    "    f, ax = plt.subplots(figsize=(20, 20))\n",
    "    ax = sns.heatmap(corrMatrix, mask=mask, square=True) "
   ]
  },
  {
   "cell_type": "markdown",
   "metadata": {},
   "source": [
    "## Categorical variables"
   ]
  },
  {
   "cell_type": "code",
   "execution_count": 91,
   "metadata": {},
   "outputs": [
    {
     "name": "stdout",
     "output_type": "stream",
     "text": [
      "[2 1 3]\n",
      "[1 3 2]\n",
      "[3 2 1 4 0]\n"
     ]
    }
   ],
   "source": [
    "print(pd.unique(df['CONTROL'].values.ravel()))\n",
    "print(pd.unique(df['ICLEVEL'].values.ravel()))\n",
    "print(pd.unique(df['HIGHDEG'].values.ravel()))"
   ]
  },
  {
   "cell_type": "code",
   "execution_count": 92,
   "metadata": {},
   "outputs": [],
   "source": [
    "## ONE HOT ENCODING FOR CATEGORICAL VARIABLES\n",
    "#train set\n",
    "if 'CONTROL' in df.columns:\n",
    "    hot1df = pd.get_dummies(df.CONTROL, prefix='CONTROL', drop_first=True)\n",
    "    df = pd.concat([df, hot1df], axis=1)\n",
    "    df.drop([\"CONTROL\"], axis=1, inplace=True)\n",
    "if 'ICLEVEL' in df.columns:\n",
    "    hot1df = pd.get_dummies(df.ICLEVEL, prefix='ICLEVEL', drop_first=True)\n",
    "    df = pd.concat([df, hot1df], axis=1)\n",
    "    df.drop([\"ICLEVEL\"], axis=1, inplace=True)\n",
    "if 'HIGHDEG' in df.columns:\n",
    "    hot1df = pd.get_dummies(df.HIGHDEG, prefix='HIGHDEG', drop_first=True)\n",
    "    df = pd.concat([df, hot1df], axis=1)\n",
    "    df.drop([\"HIGHDEG\"], axis=1, inplace=True)\n",
    "    \n",
    "#test set\n",
    "if 'CONTROL' in test.columns:\n",
    "    hot1df = pd.get_dummies(test.CONTROL, prefix='CONTROL', drop_first=True)\n",
    "    test = pd.concat([test, hot1df], axis=1)\n",
    "    test.drop([\"CONTROL\"], axis=1, inplace=True)\n",
    "if 'ICLEVEL' in test.columns:\n",
    "    hot1df = pd.get_dummies(test.ICLEVEL, prefix='ICLEVEL', drop_first=True)\n",
    "    test = pd.concat([test, hot1df], axis=1)\n",
    "    test.drop([\"ICLEVEL\"], axis=1, inplace=True)\n",
    "if 'HIGHDEG' in test.columns:\n",
    "    hot1df = pd.get_dummies(test.HIGHDEG, prefix='HIGHDEG', drop_first=True)\n",
    "    test = pd.concat([test, hot1df], axis=1)\n",
    "    test.drop([\"HIGHDEG\"], axis=1, inplace=True)"
   ]
  },
  {
   "cell_type": "code",
   "execution_count": 93,
   "metadata": {
    "scrolled": true
   },
   "outputs": [
    {
     "data": {
      "text/html": [
       "<div>\n",
       "<style scoped>\n",
       "    .dataframe tbody tr th:only-of-type {\n",
       "        vertical-align: middle;\n",
       "    }\n",
       "\n",
       "    .dataframe tbody tr th {\n",
       "        vertical-align: top;\n",
       "    }\n",
       "\n",
       "    .dataframe thead th {\n",
       "        text-align: right;\n",
       "    }\n",
       "</style>\n",
       "<table border=\"1\" class=\"dataframe\">\n",
       "  <thead>\n",
       "    <tr style=\"text-align: right;\">\n",
       "      <th></th>\n",
       "      <th>CDR3</th>\n",
       "      <th>INSTNM</th>\n",
       "      <th>SAT_AVG</th>\n",
       "      <th>COMPL_RPY_3YR_RT</th>\n",
       "      <th>NONCOM_RPY_3YR_RT</th>\n",
       "      <th>GRAD_DEBT_MDN</th>\n",
       "      <th>PCTFLOAN</th>\n",
       "      <th>MD_EARN_WNE_P8</th>\n",
       "      <th>MEDIAN_HH_INC</th>\n",
       "      <th>COUNT_WNE_INC1_P10</th>\n",
       "      <th>COUNT_WNE_INC2_P10</th>\n",
       "      <th>COUNT_WNE_INC3_P10</th>\n",
       "      <th>UGDS</th>\n",
       "      <th>COST</th>\n",
       "      <th>C150</th>\n",
       "      <th>CONTROL_2</th>\n",
       "      <th>CONTROL_3</th>\n",
       "      <th>ICLEVEL_2</th>\n",
       "      <th>ICLEVEL_3</th>\n",
       "      <th>HIGHDEG_1</th>\n",
       "      <th>HIGHDEG_2</th>\n",
       "      <th>HIGHDEG_3</th>\n",
       "      <th>HIGHDEG_4</th>\n",
       "    </tr>\n",
       "  </thead>\n",
       "  <tbody>\n",
       "    <tr>\n",
       "      <th>716</th>\n",
       "      <td>0.027</td>\n",
       "      <td>Ringling College of Art and Design</td>\n",
       "      <td>NaN</td>\n",
       "      <td>0.706989</td>\n",
       "      <td>0.553922</td>\n",
       "      <td>27000.0</td>\n",
       "      <td>0.6078</td>\n",
       "      <td>33800.0</td>\n",
       "      <td>70285.4</td>\n",
       "      <td>97.0</td>\n",
       "      <td>112.0</td>\n",
       "      <td>166.0</td>\n",
       "      <td>1559.0</td>\n",
       "      <td>64554.0</td>\n",
       "      <td>0.7152</td>\n",
       "      <td>1</td>\n",
       "      <td>0</td>\n",
       "      <td>0</td>\n",
       "      <td>0</td>\n",
       "      <td>0</td>\n",
       "      <td>0</td>\n",
       "      <td>1</td>\n",
       "      <td>0</td>\n",
       "    </tr>\n",
       "  </tbody>\n",
       "</table>\n",
       "</div>"
      ],
      "text/plain": [
       "      CDR3                              INSTNM  SAT_AVG  COMPL_RPY_3YR_RT  \\\n",
       "716  0.027  Ringling College of Art and Design      NaN          0.706989   \n",
       "\n",
       "     NONCOM_RPY_3YR_RT  GRAD_DEBT_MDN  PCTFLOAN  MD_EARN_WNE_P8  \\\n",
       "716           0.553922        27000.0    0.6078         33800.0   \n",
       "\n",
       "     MEDIAN_HH_INC  COUNT_WNE_INC1_P10  COUNT_WNE_INC2_P10  \\\n",
       "716        70285.4                97.0               112.0   \n",
       "\n",
       "     COUNT_WNE_INC3_P10    UGDS     COST    C150  CONTROL_2  CONTROL_3  \\\n",
       "716               166.0  1559.0  64554.0  0.7152          1          0   \n",
       "\n",
       "     ICLEVEL_2  ICLEVEL_3  HIGHDEG_1  HIGHDEG_2  HIGHDEG_3  HIGHDEG_4  \n",
       "716          0          0          0          0          1          0  "
      ]
     },
     "execution_count": 93,
     "metadata": {},
     "output_type": "execute_result"
    }
   ],
   "source": [
    "df.head(1)"
   ]
  },
  {
   "cell_type": "code",
   "execution_count": 94,
   "metadata": {},
   "outputs": [
    {
     "data": {
      "text/html": [
       "<div>\n",
       "<style scoped>\n",
       "    .dataframe tbody tr th:only-of-type {\n",
       "        vertical-align: middle;\n",
       "    }\n",
       "\n",
       "    .dataframe tbody tr th {\n",
       "        vertical-align: top;\n",
       "    }\n",
       "\n",
       "    .dataframe thead th {\n",
       "        text-align: right;\n",
       "    }\n",
       "</style>\n",
       "<table border=\"1\" class=\"dataframe\">\n",
       "  <thead>\n",
       "    <tr style=\"text-align: right;\">\n",
       "      <th></th>\n",
       "      <th>CDR3</th>\n",
       "      <th>INSTNM</th>\n",
       "      <th>SAT_AVG</th>\n",
       "      <th>COMPL_RPY_3YR_RT</th>\n",
       "      <th>NONCOM_RPY_3YR_RT</th>\n",
       "      <th>GRAD_DEBT_MDN</th>\n",
       "      <th>PCTFLOAN</th>\n",
       "      <th>MD_EARN_WNE_P8</th>\n",
       "      <th>MEDIAN_HH_INC</th>\n",
       "      <th>COUNT_WNE_INC1_P10</th>\n",
       "      <th>COUNT_WNE_INC2_P10</th>\n",
       "      <th>COUNT_WNE_INC3_P10</th>\n",
       "      <th>UGDS</th>\n",
       "      <th>COST</th>\n",
       "      <th>C150</th>\n",
       "      <th>CONTROL_2</th>\n",
       "      <th>CONTROL_3</th>\n",
       "      <th>ICLEVEL_2</th>\n",
       "      <th>ICLEVEL_3</th>\n",
       "      <th>HIGHDEG_1</th>\n",
       "      <th>HIGHDEG_2</th>\n",
       "      <th>HIGHDEG_3</th>\n",
       "      <th>HIGHDEG_4</th>\n",
       "    </tr>\n",
       "  </thead>\n",
       "  <tbody>\n",
       "    <tr>\n",
       "      <th>25</th>\n",
       "      <td>NaN</td>\n",
       "      <td>J F Ingram State Technical College</td>\n",
       "      <td>NaN</td>\n",
       "      <td>NaN</td>\n",
       "      <td>NaN</td>\n",
       "      <td>NaN</td>\n",
       "      <td>0.0</td>\n",
       "      <td>NaN</td>\n",
       "      <td>NaN</td>\n",
       "      <td>NaN</td>\n",
       "      <td>NaN</td>\n",
       "      <td>NaN</td>\n",
       "      <td>443.0</td>\n",
       "      <td>5580.0</td>\n",
       "      <td>0.5</td>\n",
       "      <td>0</td>\n",
       "      <td>0</td>\n",
       "      <td>1</td>\n",
       "      <td>0</td>\n",
       "      <td>1</td>\n",
       "      <td>0</td>\n",
       "      <td>0</td>\n",
       "      <td>0</td>\n",
       "    </tr>\n",
       "  </tbody>\n",
       "</table>\n",
       "</div>"
      ],
      "text/plain": [
       "    CDR3                              INSTNM  SAT_AVG  COMPL_RPY_3YR_RT  \\\n",
       "25   NaN  J F Ingram State Technical College      NaN               NaN   \n",
       "\n",
       "    NONCOM_RPY_3YR_RT  GRAD_DEBT_MDN  PCTFLOAN  MD_EARN_WNE_P8  MEDIAN_HH_INC  \\\n",
       "25                NaN            NaN       0.0             NaN            NaN   \n",
       "\n",
       "    COUNT_WNE_INC1_P10  COUNT_WNE_INC2_P10  COUNT_WNE_INC3_P10   UGDS    COST  \\\n",
       "25                 NaN                 NaN                 NaN  443.0  5580.0   \n",
       "\n",
       "    C150  CONTROL_2  CONTROL_3  ICLEVEL_2  ICLEVEL_3  HIGHDEG_1  HIGHDEG_2  \\\n",
       "25   0.5          0          0          1          0          1          0   \n",
       "\n",
       "    HIGHDEG_3  HIGHDEG_4  \n",
       "25          0          0  "
      ]
     },
     "execution_count": 94,
     "metadata": {},
     "output_type": "execute_result"
    }
   ],
   "source": [
    "test.head(1)"
   ]
  },
  {
   "cell_type": "code",
   "execution_count": 95,
   "metadata": {},
   "outputs": [
    {
     "data": {
      "text/plain": [
       "(3737, 23)"
      ]
     },
     "execution_count": 95,
     "metadata": {},
     "output_type": "execute_result"
    }
   ],
   "source": [
    "df.drop_duplicates('INSTNM', inplace=True)\n",
    "df.shape"
   ]
  },
  {
   "cell_type": "markdown",
   "metadata": {},
   "source": [
    "## Delete rows with more than 5 missing values"
   ]
  },
  {
   "cell_type": "code",
   "execution_count": 96,
   "metadata": {},
   "outputs": [
    {
     "data": {
      "text/plain": [
       "(3061, 23)"
      ]
     },
     "execution_count": 96,
     "metadata": {},
     "output_type": "execute_result"
    }
   ],
   "source": [
    "df = df[df.isnull().sum(axis=1) < 5]\n",
    "df.shape"
   ]
  },
  {
   "cell_type": "code",
   "execution_count": 97,
   "metadata": {},
   "outputs": [
    {
     "name": "stdout",
     "output_type": "stream",
     "text": [
      "CDR3                     0\n",
      "INSTNM                   0\n",
      "SAT_AVG               1872\n",
      "COMPL_RPY_3YR_RT         3\n",
      "NONCOM_RPY_3YR_RT        3\n",
      "GRAD_DEBT_MDN            4\n",
      "PCTFLOAN                 0\n",
      "MD_EARN_WNE_P8           0\n",
      "MEDIAN_HH_INC          269\n",
      "COUNT_WNE_INC1_P10       0\n",
      "COUNT_WNE_INC2_P10       0\n",
      "COUNT_WNE_INC3_P10       0\n",
      "UGDS                     1\n",
      "COST                   119\n",
      "C150                    92\n",
      "CONTROL_2                0\n",
      "CONTROL_3                0\n",
      "ICLEVEL_2                0\n",
      "ICLEVEL_3                0\n",
      "HIGHDEG_1                0\n",
      "HIGHDEG_2                0\n",
      "HIGHDEG_3                0\n",
      "HIGHDEG_4                0\n",
      "dtype: int64\n"
     ]
    }
   ],
   "source": [
    "print(df.isnull().sum())"
   ]
  },
  {
   "cell_type": "code",
   "execution_count": 98,
   "metadata": {},
   "outputs": [],
   "source": [
    "## SAT_AVG has too many missing values --> delete this column"
   ]
  },
  {
   "cell_type": "code",
   "execution_count": 99,
   "metadata": {},
   "outputs": [],
   "source": [
    "df = df.drop('SAT_AVG', axis = 1)\n",
    "test = test.drop('SAT_AVG', axis = 1)"
   ]
  },
  {
   "cell_type": "markdown",
   "metadata": {},
   "source": [
    "## Imputation of missing values"
   ]
  },
  {
   "cell_type": "code",
   "execution_count": 100,
   "metadata": {},
   "outputs": [
    {
     "data": {
      "text/plain": [
       "CDR3                    0\n",
       "INSTNM                  0\n",
       "COMPL_RPY_3YR_RT        3\n",
       "NONCOM_RPY_3YR_RT       3\n",
       "GRAD_DEBT_MDN           4\n",
       "PCTFLOAN                0\n",
       "MD_EARN_WNE_P8          0\n",
       "MEDIAN_HH_INC         269\n",
       "COUNT_WNE_INC1_P10      0\n",
       "COUNT_WNE_INC2_P10      0\n",
       "COUNT_WNE_INC3_P10      0\n",
       "UGDS                    1\n",
       "COST                  119\n",
       "C150                   92\n",
       "CONTROL_2               0\n",
       "CONTROL_3               0\n",
       "ICLEVEL_2               0\n",
       "ICLEVEL_3               0\n",
       "HIGHDEG_1               0\n",
       "HIGHDEG_2               0\n",
       "HIGHDEG_3               0\n",
       "HIGHDEG_4               0\n",
       "dtype: int64"
      ]
     },
     "execution_count": 100,
     "metadata": {},
     "output_type": "execute_result"
    }
   ],
   "source": [
    "df.isnull().sum()"
   ]
  },
  {
   "cell_type": "code",
   "execution_count": 101,
   "metadata": {},
   "outputs": [],
   "source": [
    "df = df.drop('INSTNM', axis = 1)\n",
    "test = test.drop('INSTNM', axis = 1)"
   ]
  },
  {
   "cell_type": "code",
   "execution_count": 104,
   "metadata": {},
   "outputs": [],
   "source": [
    "mno.matrix(df, figsize = (20, 6))"
   ]
  },
  {
   "cell_type": "code",
   "execution_count": 103,
   "metadata": {},
   "outputs": [],
   "source": [
    "imputer = IterativeImputer()\n",
    "# fit on the train only\n",
    "imputer.fit(df)\n",
    "# transform the dataset\n",
    "Xtrans = pd.DataFrame(imputer.transform(df))\n",
    "Xtrans.columns = df.columns\n",
    "Xtrans.index = df.index"
   ]
  },
  {
   "cell_type": "code",
   "execution_count": 105,
   "metadata": {},
   "outputs": [],
   "source": [
    "#transform also the test set\n",
    "TestTrans = pd.DataFrame(imputer.transform(test))\n",
    "TestTrans.columns = test.columns\n",
    "TestTrans.index = test.index"
   ]
  },
  {
   "cell_type": "code",
   "execution_count": 106,
   "metadata": {
    "scrolled": true
   },
   "outputs": [
    {
     "name": "stdout",
     "output_type": "stream",
     "text": [
      "CDR3                  0\n",
      "COMPL_RPY_3YR_RT      0\n",
      "NONCOM_RPY_3YR_RT     0\n",
      "GRAD_DEBT_MDN         0\n",
      "PCTFLOAN              0\n",
      "MD_EARN_WNE_P8        0\n",
      "MEDIAN_HH_INC         0\n",
      "COUNT_WNE_INC1_P10    0\n",
      "COUNT_WNE_INC2_P10    0\n",
      "COUNT_WNE_INC3_P10    0\n",
      "UGDS                  0\n",
      "COST                  0\n",
      "C150                  0\n",
      "CONTROL_2             0\n",
      "CONTROL_3             0\n",
      "ICLEVEL_2             0\n",
      "ICLEVEL_3             0\n",
      "HIGHDEG_1             0\n",
      "HIGHDEG_2             0\n",
      "HIGHDEG_3             0\n",
      "HIGHDEG_4             0\n",
      "dtype: int64\n",
      "CDR3                  0\n",
      "COMPL_RPY_3YR_RT      0\n",
      "NONCOM_RPY_3YR_RT     0\n",
      "GRAD_DEBT_MDN         0\n",
      "PCTFLOAN              0\n",
      "MD_EARN_WNE_P8        0\n",
      "MEDIAN_HH_INC         0\n",
      "COUNT_WNE_INC1_P10    0\n",
      "COUNT_WNE_INC2_P10    0\n",
      "COUNT_WNE_INC3_P10    0\n",
      "UGDS                  0\n",
      "COST                  0\n",
      "C150                  0\n",
      "CONTROL_2             0\n",
      "CONTROL_3             0\n",
      "ICLEVEL_2             0\n",
      "ICLEVEL_3             0\n",
      "HIGHDEG_1             0\n",
      "HIGHDEG_2             0\n",
      "HIGHDEG_3             0\n",
      "HIGHDEG_4             0\n",
      "dtype: int64\n"
     ]
    }
   ],
   "source": [
    "print(Xtrans.isnull().sum())\n",
    "print(TestTrans.isnull().sum())"
   ]
  },
  {
   "cell_type": "markdown",
   "metadata": {},
   "source": [
    "## Check target variable distribution"
   ]
  },
  {
   "cell_type": "code",
   "execution_count": 85,
   "metadata": {},
   "outputs": [
    {
     "name": "stdout",
     "output_type": "stream",
     "text": [
      "Statistics=0.943, p=0.000\n",
      "Sample does not look Gaussian --> reject H0\n"
     ]
    }
   ],
   "source": [
    "resp = df['CDR3']\n",
    "stat, p = shapiro(resp)\n",
    "print('Statistics=%.3f, p=%.3f' % (stat, p))\n",
    "alpha = 0.05\n",
    "if p > alpha:\n",
    "    print('Sample looks Gaussian --> fail to reject H0')\n",
    "else:\n",
    "    print('Sample does not look Gaussian --> reject H0')"
   ]
  },
  {
   "cell_type": "code",
   "execution_count": 86,
   "metadata": {},
   "outputs": [
    {
     "data": {
      "text/plain": [
       "<AxesSubplot:xlabel='CDR3', ylabel='Density'>"
      ]
     },
     "execution_count": 86,
     "metadata": {},
     "output_type": "execute_result"
    },
    {
     "data": {
      "image/png": "[encoded data removed]",
      "text/plain": [
       "<Figure size 864x288 with 3 Axes>"
      ]
     },
     "metadata": {
      "needs_background": "light"
     },
     "output_type": "display_data"
    }
   ],
   "source": [
    "fig, ax = plt.subplots(1, 3)\n",
    "width, height = fig.get_size_inches()\n",
    "fig.set_size_inches(width*2, height)\n",
    "\n",
    "sns.distplot(df['CDR3'], ax=ax[0], fit=norm)\n",
    "sns.distplot(np.sqrt(df['CDR3']), ax=ax[1], fit= norm)\n",
    "sns.distplot(np.log(df['CDR3']+1), ax=ax[2], fit= norm)\n",
    "## With np.sqrt transformation it resembles a normal distribution"
   ]
  },
  {
   "cell_type": "markdown",
   "metadata": {},
   "source": [
    "## X and Y"
   ]
  },
  {
   "cell_type": "markdown",
   "metadata": {},
   "source": [
    "In order to deal with this problem, as normality may influence the results of some of the models positively, a function is applied to this variable."
   ]
  },
  {
   "cell_type": "code",
   "execution_count": 107,
   "metadata": {},
   "outputs": [],
   "source": [
    "df_y = Xtrans['CDR3']\n",
    "df_x = Xtrans.drop('CDR3', axis = 1)\n",
    "\n",
    "#test_y = test['CDR3']\n",
    "test_x = TestTrans.drop('CDR3', axis = 1)"
   ]
  },
  {
   "cell_type": "markdown",
   "metadata": {},
   "source": [
    "I am going to make a copy of the data in order to be able to compare performance using y and sqrt(y) and se which one performs better"
   ]
  },
  {
   "cell_type": "code",
   "execution_count": 108,
   "metadata": {},
   "outputs": [],
   "source": [
    "X_train = df_x.copy()\n",
    "y_train = df_y.copy()\n",
    "X_test = test_x.copy()"
   ]
  },
  {
   "cell_type": "code",
   "execution_count": 109,
   "metadata": {},
   "outputs": [],
   "source": [
    "# sqrt transformation for target variable (compare models using both y and sqrt(y))\n",
    "y_train_sqrt = y_train.copy()\n",
    "y_train_sqrt = y_train_sqrt.apply(lambda x: np.sqrt(x))"
   ]
  },
  {
   "cell_type": "markdown",
   "metadata": {},
   "source": [
    "## Standardization "
   ]
  },
  {
   "cell_type": "markdown",
   "metadata": {},
   "source": [
    "Application of standardization to the explanatory variables: given that the features were on different scales, as described above, it seemed like a good idea to transform these too.\n",
    "I will make a copy of the data, so that later I can compare models with standardized data and raw data and see in which case they perform better."
   ]
  },
  {
   "cell_type": "code",
   "execution_count": 110,
   "metadata": {},
   "outputs": [],
   "source": [
    "#MinMax Scaler\n",
    "scaler = MinMaxScaler()\n",
    "X_train_scal = df_x.copy()\n",
    "X_test_scal = test_x.copy()\n",
    "\n",
    "#fit on the train\n",
    "scaler.fit(X_train_scal.iloc[:,:-8])\n",
    "\n",
    "#transform both the train and the test\n",
    "X_train_scal.iloc[:,:-8] = scaler.transform(X_train_scal.iloc[:,:-8])\n",
    "X_test_scal.iloc[:,:-8] = scaler.transform(X_test_scal.iloc[:,:-8])"
   ]
  },
  {
   "cell_type": "code",
   "execution_count": 111,
   "metadata": {},
   "outputs": [
    {
     "data": {
      "text/html": [
       "<div>\n",
       "<style scoped>\n",
       "    .dataframe tbody tr th:only-of-type {\n",
       "        vertical-align: middle;\n",
       "    }\n",
       "\n",
       "    .dataframe tbody tr th {\n",
       "        vertical-align: top;\n",
       "    }\n",
       "\n",
       "    .dataframe thead th {\n",
       "        text-align: right;\n",
       "    }\n",
       "</style>\n",
       "<table border=\"1\" class=\"dataframe\">\n",
       "  <thead>\n",
       "    <tr style=\"text-align: right;\">\n",
       "      <th></th>\n",
       "      <th>COMPL_RPY_3YR_RT</th>\n",
       "      <th>NONCOM_RPY_3YR_RT</th>\n",
       "      <th>GRAD_DEBT_MDN</th>\n",
       "      <th>PCTFLOAN</th>\n",
       "      <th>MD_EARN_WNE_P8</th>\n",
       "      <th>MEDIAN_HH_INC</th>\n",
       "      <th>COUNT_WNE_INC1_P10</th>\n",
       "      <th>COUNT_WNE_INC2_P10</th>\n",
       "      <th>COUNT_WNE_INC3_P10</th>\n",
       "      <th>UGDS</th>\n",
       "      <th>COST</th>\n",
       "      <th>C150</th>\n",
       "      <th>CONTROL_2</th>\n",
       "      <th>CONTROL_3</th>\n",
       "      <th>ICLEVEL_2</th>\n",
       "      <th>ICLEVEL_3</th>\n",
       "      <th>HIGHDEG_1</th>\n",
       "      <th>HIGHDEG_2</th>\n",
       "      <th>HIGHDEG_3</th>\n",
       "      <th>HIGHDEG_4</th>\n",
       "    </tr>\n",
       "  </thead>\n",
       "  <tbody>\n",
       "    <tr>\n",
       "      <th>716</th>\n",
       "      <td>0.669512</td>\n",
       "      <td>0.566538</td>\n",
       "      <td>0.56215</td>\n",
       "      <td>0.610793</td>\n",
       "      <td>0.165761</td>\n",
       "      <td>0.6495</td>\n",
       "      <td>0.002328</td>\n",
       "      <td>0.002105</td>\n",
       "      <td>0.006179</td>\n",
       "      <td>0.023358</td>\n",
       "      <td>0.876661</td>\n",
       "      <td>0.7152</td>\n",
       "      <td>1.0</td>\n",
       "      <td>0.0</td>\n",
       "      <td>0.0</td>\n",
       "      <td>0.0</td>\n",
       "      <td>0.0</td>\n",
       "      <td>0.0</td>\n",
       "      <td>1.0</td>\n",
       "      <td>0.0</td>\n",
       "    </tr>\n",
       "  </tbody>\n",
       "</table>\n",
       "</div>"
      ],
      "text/plain": [
       "     COMPL_RPY_3YR_RT  NONCOM_RPY_3YR_RT  GRAD_DEBT_MDN  PCTFLOAN  \\\n",
       "716          0.669512           0.566538        0.56215  0.610793   \n",
       "\n",
       "     MD_EARN_WNE_P8  MEDIAN_HH_INC  COUNT_WNE_INC1_P10  COUNT_WNE_INC2_P10  \\\n",
       "716        0.165761         0.6495            0.002328            0.002105   \n",
       "\n",
       "     COUNT_WNE_INC3_P10      UGDS      COST    C150  CONTROL_2  CONTROL_3  \\\n",
       "716            0.006179  0.023358  0.876661  0.7152        1.0        0.0   \n",
       "\n",
       "     ICLEVEL_2  ICLEVEL_3  HIGHDEG_1  HIGHDEG_2  HIGHDEG_3  HIGHDEG_4  \n",
       "716        0.0        0.0        0.0        0.0        1.0        0.0  "
      ]
     },
     "execution_count": 111,
     "metadata": {},
     "output_type": "execute_result"
    }
   ],
   "source": [
    "X_train_scal.head(1)"
   ]
  },
  {
   "cell_type": "markdown",
   "metadata": {},
   "source": [
    "## Divide df and df_sclaed in train + dev "
   ]
  },
  {
   "cell_type": "code",
   "execution_count": 112,
   "metadata": {},
   "outputs": [
    {
     "name": "stdout",
     "output_type": "stream",
     "text": [
      "2601 459\n"
     ]
    }
   ],
   "source": [
    "N = len(df_x)\n",
    "train_size = int(N*0.85)\n",
    "dev_size = int(N*0.15)\n",
    "\n",
    "#train\n",
    "train = df_x[:train_size]\n",
    "yt = df_y[:train_size]\n",
    "\n",
    "#eval\n",
    "dev = df_x[train_size: train_size+dev_size]\n",
    "y_dev = df_y[train_size: train_size+dev_size]\n",
    "\n",
    "print(len(train), len(dev))"
   ]
  },
  {
   "cell_type": "code",
   "execution_count": 113,
   "metadata": {},
   "outputs": [
    {
     "name": "stdout",
     "output_type": "stream",
     "text": [
      "(2601, 20)\n",
      "(459, 20)\n"
     ]
    }
   ],
   "source": [
    "print(train.shape)\n",
    "print(dev.shape)"
   ]
  },
  {
   "cell_type": "code",
   "execution_count": 114,
   "metadata": {},
   "outputs": [
    {
     "name": "stdout",
     "output_type": "stream",
     "text": [
      "2601 459\n"
     ]
    }
   ],
   "source": [
    "N = len(df_x)\n",
    "train_size = int(N*0.85)\n",
    "dev_size = int(N*0.15)\n",
    "\n",
    "train_s = X_train_scal[:train_size]\n",
    "#yt = df_y[:train_size]\n",
    "dev_s = X_train_scal[train_size: train_size+dev_size]\n",
    "#y_dev = df_y[train_size: train_size+dev_size]\n",
    "\n",
    "print(len(train_s), len(dev_s))"
   ]
  },
  {
   "cell_type": "code",
   "execution_count": 115,
   "metadata": {},
   "outputs": [
    {
     "name": "stdout",
     "output_type": "stream",
     "text": [
      "(2601, 20)\n",
      "(459, 20)\n"
     ]
    }
   ],
   "source": [
    "print(train_s.shape)\n",
    "print(dev_s.shape)"
   ]
  },
  {
   "cell_type": "markdown",
   "metadata": {},
   "source": [
    "## Models"
   ]
  },
  {
   "cell_type": "markdown",
   "metadata": {},
   "source": [
    "Having concluded the preprocessing of the data, the main part of the analysis starts here. This involved the application of different models, using all the various combinations of transformations of the input data and the target variable in each case, and the optimization of these models.\n",
    "The optimization of the parameters will be carried out using GridSearchCV (or RandomizedSearchCV). This approach tests all possible combinations exhaustively using cross-validation, but this means that it requires a huge amount of computations. Because of this, especially given the number of potential parameters of the function, only a subset will be tested."
   ]
  },
  {
   "cell_type": "code",
   "execution_count": 116,
   "metadata": {},
   "outputs": [
    {
     "name": "stdout",
     "output_type": "stream",
     "text": [
      "MAE score: [-0.02327435 -0.02243706 -0.02114178]\n"
     ]
    }
   ],
   "source": [
    "rf = RandomForestRegressor(random_state = 1, n_jobs = -1, criterion = \"mae\")\n",
    "score = cross_val_score(rf, train, yt, cv=3, scoring=\"neg_mean_absolute_error\", n_jobs = -1)\n",
    "rf.fit(train, yt)\n",
    "print(\"MAE score:\", score)\n",
    "\n",
    "\n",
    "#RandomForestRegressor(n_estimators = 100, criterion='mae', max_depth= 7000, max_leaf_nodes = 7050, min_samples_leaf =6, min_samples_split=2, min_impurity_decrease=0.0, random_state = 42)\n",
    "# Train the model on training data\n",
    "#rf.fit(train_features, train_labels)\n",
    "#max_depth= 600, max_leaf_nodes = 750,"
   ]
  },
  {
   "cell_type": "code",
   "execution_count": 117,
   "metadata": {},
   "outputs": [
    {
     "name": "stdout",
     "output_type": "stream",
     "text": [
      "Mean Absolute Error: 0.02 degrees.\n"
     ]
    },
    {
     "data": {
      "text/plain": [
       "0.02118264705882353"
      ]
     },
     "execution_count": 117,
     "metadata": {},
     "output_type": "execute_result"
    }
   ],
   "source": [
    "predictions = rf.predict(dev)\n",
    "# Calculate the absolute errors\n",
    "errors = abs(predictions - y_dev)\n",
    "# Print out the mean absolute error (mae)\n",
    "print('Mean Absolute Error:', round(np.mean(errors), 2), 'degrees.')\n",
    "mean_absolute_error(y_dev, predictions)"
   ]
  },
  {
   "cell_type": "code",
   "execution_count": 119,
   "metadata": {},
   "outputs": [
    {
     "name": "stdout",
     "output_type": "stream",
     "text": [
      "Variable: NONCOM_RPY_3YR_RT    Importance: 0.35\n",
      "Variable: MD_EARN_WNE_P8       Importance: 0.15\n",
      "Variable: C150                 Importance: 0.09\n",
      "Variable: COMPL_RPY_3YR_RT     Importance: 0.06\n",
      "Variable: GRAD_DEBT_MDN        Importance: 0.05\n",
      "Variable: PCTFLOAN             Importance: 0.04\n",
      "Variable: MEDIAN_HH_INC        Importance: 0.04\n",
      "Variable: COUNT_WNE_INC1_P10   Importance: 0.04\n",
      "Variable: COUNT_WNE_INC2_P10   Importance: 0.04\n",
      "Variable: COUNT_WNE_INC3_P10   Importance: 0.04\n",
      "Variable: COST                 Importance: 0.04\n",
      "Variable: UGDS                 Importance: 0.03\n",
      "Variable: HIGHDEG_2            Importance: 0.01\n",
      "Variable: HIGHDEG_4            Importance: 0.01\n",
      "Variable: CONTROL_2            Importance: 0.0\n",
      "Variable: CONTROL_3            Importance: 0.0\n",
      "Variable: ICLEVEL_2            Importance: 0.0\n",
      "Variable: ICLEVEL_3            Importance: 0.0\n",
      "Variable: HIGHDEG_1            Importance: 0.0\n",
      "Variable: HIGHDEG_3            Importance: 0.0\n"
     ]
    },
    {
     "data": {
      "text/plain": [
       "[None,\n",
       " None,\n",
       " None,\n",
       " None,\n",
       " None,\n",
       " None,\n",
       " None,\n",
       " None,\n",
       " None,\n",
       " None,\n",
       " None,\n",
       " None,\n",
       " None,\n",
       " None,\n",
       " None,\n",
       " None,\n",
       " None,\n",
       " None,\n",
       " None,\n",
       " None]"
      ]
     },
     "execution_count": 119,
     "metadata": {},
     "output_type": "execute_result"
    }
   ],
   "source": [
    "importances = list(rf.feature_importances_)\n",
    "# List of tuples with variable and importance\n",
    "feature_list = list(train.columns)\n",
    "features = np.array(train)\n",
    "feature_importances = [(feature, round(importance, 2)) for feature, importance in zip(feature_list, importances)]\n",
    "# Sort the feature importances by most important first\n",
    "feature_importances = sorted(feature_importances, key = lambda x: x[1], reverse = True)\n",
    "# Print out the feature and importances \n",
    "[print('Variable: {:20} Importance: {}'.format(*pair)) for pair in feature_importances]"
   ]
  },
  {
   "cell_type": "code",
   "execution_count": null,
   "metadata": {},
   "outputs": [],
   "source": [
    "rf = RandomForestRegressor(random_state = 1, n_jobs = -1)\n",
    "\n",
    "min_samples_leaf_n = [1, 10, 50]\n",
    "max_features_n = ['auto', 'sqrt']\n",
    "n_estimators_n = [50,100,200]\n",
    "\n",
    "param_grid = [\n",
    "    {'min_samples_leaf': min_samples_leaf_n,\n",
    "     'max_features': max_features_n,\n",
    "     'n_estimators': n_estimators_n,\n",
    "    },\n",
    "    ]\n",
    "\n",
    "grid = GridSearchCV(rf, param_grid, cv = 3, scoring='neg_mean_absolute_error', n_jobs = -1)\n",
    "grid.fit(X_train, y_train.values.ravel())\n",
    "\n",
    "print(grid.best_params_)\n",
    "print(grid.best_score_)"
   ]
  },
  {
   "cell_type": "code",
   "execution_count": 122,
   "metadata": {},
   "outputs": [
    {
     "data": {
      "text/plain": [
       "GradientBoostingRegressor(learning_rate=0.01, n_estimators=5000, random_state=1)"
      ]
     },
     "execution_count": 122,
     "metadata": {},
     "output_type": "execute_result"
    }
   ],
   "source": [
    "regr_boost = GradientBoostingRegressor(n_estimators=5000, learning_rate=0.01, random_state=1)\n",
    "regr_boost.fit(train, yt)"
   ]
  },
  {
   "cell_type": "code",
   "execution_count": 125,
   "metadata": {},
   "outputs": [
    {
     "data": {
      "text/plain": [
       "0.0009943094492567781"
      ]
     },
     "execution_count": 125,
     "metadata": {},
     "output_type": "execute_result"
    }
   ],
   "source": [
    "y_pred = regr_boost.predict(dev)\n",
    "mean_squared_error(y_dev, y_pred)"
   ]
  },
  {
   "cell_type": "code",
   "execution_count": 128,
   "metadata": {},
   "outputs": [
    {
     "data": {
      "text/plain": [
       "array([0.03004275, 0.04210883, 0.15496498, 0.13543787, 0.00329999,\n",
       "       0.17906919, 0.08429751, 0.12990931, 0.05521613, 0.04511677,\n",
       "       0.04214697, 0.06743265, 0.18685352, 0.08322973, 0.04499144,\n",
       "       0.10742214, 0.18832622, 0.03353465, 0.08871816, 0.18211112,\n",
       "       0.04152911, 0.05782557, 0.1874677 , 0.01668863, 0.18823881,\n",
       "       0.0684968 , 0.08622686, 0.10836771, 0.06535656, 0.10384181,\n",
       "       0.02102945, 0.10710812, 0.16555089, 0.1295126 , 0.14474924,\n",
       "       0.1616062 , 0.14422865, 0.08318153, 0.12825097, 0.13879142,\n",
       "       0.11749734, 0.04458767, 0.16687273, 0.0857295 , 0.08907428,\n",
       "       0.05041704, 0.02190426, 0.10584526, 0.10871598, 0.02856891,\n",
       "       0.08893562, 0.20887681, 0.08657775, 0.02178163, 0.12246429,\n",
       "       0.19095705, 0.06641732, 0.16560304, 0.11001103, 0.08200731,\n",
       "       0.05473817, 0.08258103, 0.00555767, 0.02340365, 0.12706519,\n",
       "       0.12465764, 0.08425045, 0.15518667, 0.11463066, 0.02598214,\n",
       "       0.0723127 , 0.0782056 , 0.02348371, 0.13390571, 0.13238388,\n",
       "       0.14497986, 0.08199642, 0.17920601, 0.0577916 , 0.07493614,\n",
       "       0.05770712, 0.09574065, 0.22739995, 0.13200053, 0.08235104,\n",
       "       0.14130583, 0.13194258, 0.04383384, 0.13684012, 0.15279364,\n",
       "       0.17995942, 0.10904258, 0.10706072, 0.08427227, 0.0418962 ,\n",
       "       0.18326837, 0.08369952, 0.1923544 , 0.12371401, 0.03755947,\n",
       "       0.11911626, 0.20473088, 0.04329136, 0.1426344 , 0.07275634,\n",
       "       0.10368861, 0.07013868, 0.11950269, 0.072991  , 0.1114299 ,\n",
       "       0.22173308, 0.1543779 , 0.01530001, 0.13743789, 0.16195595,\n",
       "       0.09045535, 0.1268654 , 0.0609327 , 0.11510567, 0.02312405,\n",
       "       0.05781439, 0.02537245, 0.18787492, 0.03369531, 0.193498  ,\n",
       "       0.11880278, 0.04528879, 0.06868898, 0.02525693, 0.01182018,\n",
       "       0.14559818, 0.24204869, 0.07995573, 0.16762521, 0.05704394,\n",
       "       0.08111898, 0.16644381, 0.03042575, 0.04958668, 0.10238441,\n",
       "       0.12291083, 0.10416511, 0.04055531, 0.15820255, 0.1422559 ,\n",
       "       0.04671666, 0.18781455, 0.06300321, 0.16713592, 0.2106269 ,\n",
       "       0.03803678, 0.17190741, 0.11432516, 0.0581056 , 0.14134355,\n",
       "       0.10927128, 0.1010705 , 0.18788254, 0.18546051, 0.08442252,\n",
       "       0.10791015, 0.17951477, 0.12245016, 0.06724473, 0.15935642,\n",
       "       0.05758064, 0.03241689, 0.16411747, 0.13711247, 0.15578016,\n",
       "       0.13507277, 0.10477596, 0.10278149, 0.08419849, 0.14005091,\n",
       "       0.13835981, 0.0707592 , 0.08909731, 0.10103616, 0.12429477,\n",
       "       0.21849749, 0.17174647, 0.06955293, 0.02670601, 0.05876897,\n",
       "       0.05502582, 0.11420409, 0.20369193, 0.09245376, 0.18971498,\n",
       "       0.14526069, 0.10791961, 0.02732327, 0.09046196, 0.09101068,\n",
       "       0.16571092, 0.10550611, 0.11703718, 0.01743671, 0.06230388,\n",
       "       0.05078155, 0.13560446, 0.06490835, 0.10306551, 0.13763375,\n",
       "       0.02932524, 0.12311925, 0.06767671, 0.17942899, 0.02281092,\n",
       "       0.16689342, 0.17541129, 0.05791722, 0.18755806, 0.12055127,\n",
       "       0.0518618 , 0.10217547, 0.08033715, 0.12328347, 0.07971348,\n",
       "       0.15042018, 0.02802678, 0.18324337, 0.12197311, 0.17661031,\n",
       "       0.09887779, 0.20725153, 0.10361786, 0.00958503, 0.10889245,\n",
       "       0.10247321, 0.11571705, 0.16422124, 0.07897836, 0.17787026,\n",
       "       0.15047603, 0.17398682, 0.04826242, 0.04311716, 0.05954281,\n",
       "       0.04469229, 0.14819161, 0.06255823, 0.11919777, 0.22512626,\n",
       "       0.20075179, 0.09350882, 0.21582793, 0.066407  , 0.15997263,\n",
       "       0.15075055, 0.24246572, 0.0438418 , 0.08043427, 0.03187712,\n",
       "       0.04671773, 0.05891294, 0.20379617, 0.12241086, 0.12650248,\n",
       "       0.17450536, 0.02416021, 0.08086775, 0.14870989, 0.1259297 ,\n",
       "       0.05777117, 0.05687745, 0.02744073, 0.19285294, 0.12234748,\n",
       "       0.11306901, 0.24513222, 0.28684442, 0.12853024, 0.09411592,\n",
       "       0.08190168, 0.04702312, 0.142542  , 0.14706597, 0.01934704,\n",
       "       0.13492957, 0.02399094, 0.16776338, 0.19316358, 0.04453245,\n",
       "       0.13142647, 0.10745215, 0.04220032, 0.03410825, 0.0710019 ,\n",
       "       0.11069595, 0.02953755, 0.13763802, 0.14512573, 0.01888527,\n",
       "       0.1353024 , 0.04370465, 0.16212129, 0.06597678, 0.13454954,\n",
       "       0.15401809, 0.06062434, 0.03709955, 0.05462402, 0.09238176,\n",
       "       0.0690296 , 0.07614508, 0.12970397, 0.04156041, 0.03973905,\n",
       "       0.1052548 , 0.11605238, 0.04178415, 0.07270076, 0.03771526,\n",
       "       0.10558397, 0.19508025, 0.14690802, 0.01346372, 0.04108051,\n",
       "       0.14737821, 0.05858309, 0.11708669, 0.12772307, 0.06976935,\n",
       "       0.05133018, 0.07932501, 0.19744496, 0.13138551, 0.0493954 ,\n",
       "       0.0275853 , 0.05793946, 0.05074288, 0.08675109, 0.09771837,\n",
       "       0.19713187, 0.0573727 , 0.05512645, 0.0573044 , 0.03307384,\n",
       "       0.04732819, 0.13841926, 0.12343283, 0.06634795, 0.15237961,\n",
       "       0.16108867, 0.07359848, 0.0289056 , 0.14046782, 0.01913983,\n",
       "       0.05753944, 0.12906609, 0.06412784, 0.06665384, 0.08104806,\n",
       "       0.18517946, 0.13771893, 0.0573047 , 0.15955154, 0.03789265,\n",
       "       0.13709849, 0.06280665, 0.05045852, 0.04301807, 0.07185958,\n",
       "       0.07432056, 0.11324211, 0.05658077, 0.16655218, 0.046227  ,\n",
       "       0.01590768, 0.1509694 , 0.14016731, 0.06313523, 0.13091722,\n",
       "       0.06918177, 0.1157325 , 0.05715549, 0.13503203, 0.12940638,\n",
       "       0.02425665, 0.19134706, 0.08897228, 0.12348224, 0.05024101,\n",
       "       0.04333375, 0.04557501, 0.01309273, 0.10567295, 0.13576257,\n",
       "       0.19551017, 0.06590155, 0.04521829, 0.21780571, 0.06456201,\n",
       "       0.14742606, 0.11715215, 0.07876773, 0.1602665 , 0.15534303,\n",
       "       0.22635055, 0.04449449, 0.06460045, 0.04617438, 0.09580745,\n",
       "       0.09779011, 0.08856878, 0.06173499, 0.15717477, 0.12936951,\n",
       "       0.03353409, 0.0749929 , 0.02134812, 0.13752903, 0.1725457 ,\n",
       "       0.02651747, 0.10963684, 0.09809372, 0.13420953, 0.19040846,\n",
       "       0.14699081, 0.06418091, 0.08833709, 0.05036572, 0.15704107,\n",
       "       0.08578927, 0.05155322, 0.08498555, 0.12887676, 0.19838985,\n",
       "       0.05252789, 0.03458573, 0.17333337, 0.12011663, 0.06806501,\n",
       "       0.0436984 , 0.13722262, 0.1467526 , 0.10123062, 0.16400361,\n",
       "       0.13180253, 0.12837413, 0.17220756, 0.14711516, 0.04577356,\n",
       "       0.15196672, 0.14773499, 0.06383272, 0.19222293, 0.18198825,\n",
       "       0.11566054, 0.13197564, 0.15048467, 0.11829452, 0.02427548,\n",
       "       0.1272245 , 0.080636  , 0.05101765, 0.17068273])"
      ]
     },
     "execution_count": 128,
     "metadata": {},
     "output_type": "execute_result"
    }
   ],
   "source": [
    "y_pred"
   ]
  },
  {
   "cell_type": "code",
   "execution_count": null,
   "metadata": {},
   "outputs": [],
   "source": []
  }
 ],
 "metadata": {
  "kernelspec": {
   "display_name": "Python 3",
   "language": "python",
   "name": "python3"
  },
  "language_info": {
   "codemirror_mode": {
    "name": "ipython",
    "version": 3
   },
   "file_extension": ".py",
   "mimetype": "text/x-python",
   "name": "python",
   "nbconvert_exporter": "python",
   "pygments_lexer": "ipython3",
   "version": "3.8.5"
  }
 },
 "nbformat": 4,
 "nbformat_minor": 4
}
