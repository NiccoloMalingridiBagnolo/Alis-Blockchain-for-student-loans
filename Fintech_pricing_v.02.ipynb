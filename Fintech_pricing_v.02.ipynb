{
 "cells": [
  {
   "cell_type": "code",
   "execution_count": 2,
   "metadata": {},
   "outputs": [],
   "source": [
    "import pandas as pd\n",
    "import numpy as np\n",
    "import matplotlib.pyplot as plt\n",
    "import math"
   ]
  },
  {
   "cell_type": "markdown",
   "metadata": {},
   "source": [
    "## Root mean squared error\n",
    "\n",
    "standard deviation of the residuals (i.e. how spread the residuals are)"
   ]
  },
  {
   "cell_type": "code",
   "execution_count": 47,
   "metadata": {},
   "outputs": [
    {
     "data": {
      "text/plain": [
       "0.5526043378591846"
      ]
     },
     "execution_count": 47,
     "metadata": {},
     "output_type": "execute_result"
    }
   ],
   "source": [
    "np.sqrt(np.mean((e)**2))"
   ]
  },
  {
   "cell_type": "markdown",
   "metadata": {},
   "source": [
    "## Mean absolute error"
   ]
  },
  {
   "cell_type": "code",
   "execution_count": 48,
   "metadata": {},
   "outputs": [
    {
     "data": {
      "text/plain": [
       "0.4490916582949643"
      ]
     },
     "execution_count": 48,
     "metadata": {},
     "output_type": "execute_result"
    }
   ],
   "source": [
    "np.mean(np.abs(e))"
   ]
  },
  {
   "cell_type": "markdown",
   "metadata": {},
   "source": [
    "## Interest rate\n",
    "Pricing formula from Options, Futures, and Other Derivatives by John C. Hull \"Estimating default probabilities from bond yield spreads\" Chapter 24.4\n",
    "\n",
    "Analysis using actual default rates"
   ]
  },
  {
   "cell_type": "code",
   "execution_count": 6,
   "metadata": {},
   "outputs": [],
   "source": [
    "df1 = pd.read_csv(r\"C:\\Users\\matte\\Documents\\Bocconi\\Finance_with_big_data\\group_project\\data\\ActualValuesEval.csv\")\n",
    "df2 = pd.read_csv(r\"C:\\Users\\matte\\Documents\\Bocconi\\Finance_with_big_data\\group_project\\data\\ActualValuesTrain.csv\")"
   ]
  },
  {
   "cell_type": "code",
   "execution_count": 7,
   "metadata": {},
   "outputs": [],
   "source": [
    "df1.drop(df1.columns[0], inplace = True, axis = 1)\n",
    "df_actual = pd.concat([df1, df2], axis = 0)\n",
    "df_actual.rename({'CDR3':'default_rate_cum'}, inplace = True, axis = 1)"
   ]
  },
  {
   "cell_type": "code",
   "execution_count": 10,
   "metadata": {},
   "outputs": [],
   "source": [
    "recovery_rate = 0.1 # assumption\n",
    "mid_swap_US = 0.0048 # as of 07 December 2020\n",
    "\n",
    "def annualized_avg_default_rate(default_rate):\n",
    "    return - np.log(1 - default_rate) / 3"
   ]
  },
  {
   "cell_type": "code",
   "execution_count": 8,
   "metadata": {},
   "outputs": [],
   "source": [
    "def get_interest_rate(default_rate):\n",
    "    mid_swap_US = 0.0048\n",
    "    recovery_rate = 0.1\n",
    "    annualized_avg_default_rate = - np.log(1 - default_rate) / 3\n",
    "    return ((1 - recovery_rate) * annualized_avg_default_rate + mid_swap_US) * 100    \n",
    "    "
   ]
  },
  {
   "cell_type": "code",
   "execution_count": 27,
   "metadata": {},
   "outputs": [
    {
     "data": {
      "text/plain": [
       "2.657120785045065"
      ]
     },
     "execution_count": 27,
     "metadata": {},
     "output_type": "execute_result"
    }
   ],
   "source": [
    "get_interest_rate(0.07)"
   ]
  },
  {
   "cell_type": "code",
   "execution_count": null,
   "metadata": {},
   "outputs": [],
   "source": []
  },
  {
   "cell_type": "code",
   "execution_count": 11,
   "metadata": {},
   "outputs": [],
   "source": [
    "df_actual['default_rate_ann'] = annualized_avg_default_rate(df_actual['default_rate_cum'])"
   ]
  },
  {
   "cell_type": "code",
   "execution_count": 12,
   "metadata": {},
   "outputs": [],
   "source": [
    "df_actual['interest_rate_ann'] = ((1 - recovery_rate) * df_actual['default_rate_ann'] + mid_swap_US) * 100"
   ]
  },
  {
   "cell_type": "code",
   "execution_count": 13,
   "metadata": {},
   "outputs": [],
   "source": [
    "df_actual['interest_rate_cum'] = ((1 - recovery_rate) * df_actual['default_rate_cum'] + mid_swap_US) * 100"
   ]
  },
  {
   "cell_type": "code",
   "execution_count": 25,
   "metadata": {},
   "outputs": [
    {
     "data": {
      "text/html": [
       "<div>\n",
       "<style scoped>\n",
       "    .dataframe tbody tr th:only-of-type {\n",
       "        vertical-align: middle;\n",
       "    }\n",
       "\n",
       "    .dataframe tbody tr th {\n",
       "        vertical-align: top;\n",
       "    }\n",
       "\n",
       "    .dataframe thead th {\n",
       "        text-align: right;\n",
       "    }\n",
       "</style>\n",
       "<table border=\"1\" class=\"dataframe\">\n",
       "  <thead>\n",
       "    <tr style=\"text-align: right;\">\n",
       "      <th></th>\n",
       "      <th>default_rate_cum</th>\n",
       "      <th>default_rate_ann</th>\n",
       "      <th>interest_rate_ann</th>\n",
       "      <th>interest_rate_cum</th>\n",
       "    </tr>\n",
       "  </thead>\n",
       "  <tbody>\n",
       "    <tr>\n",
       "      <th>0</th>\n",
       "      <td>0.126</td>\n",
       "      <td>0.044892</td>\n",
       "      <td>4.520247</td>\n",
       "      <td>11.82</td>\n",
       "    </tr>\n",
       "    <tr>\n",
       "      <th>1</th>\n",
       "      <td>0.162</td>\n",
       "      <td>0.058912</td>\n",
       "      <td>5.782115</td>\n",
       "      <td>15.06</td>\n",
       "    </tr>\n",
       "    <tr>\n",
       "      <th>2</th>\n",
       "      <td>0.008</td>\n",
       "      <td>0.002677</td>\n",
       "      <td>0.720965</td>\n",
       "      <td>1.20</td>\n",
       "    </tr>\n",
       "    <tr>\n",
       "      <th>3</th>\n",
       "      <td>0.178</td>\n",
       "      <td>0.065338</td>\n",
       "      <td>6.360447</td>\n",
       "      <td>16.50</td>\n",
       "    </tr>\n",
       "    <tr>\n",
       "      <th>4</th>\n",
       "      <td>0.138</td>\n",
       "      <td>0.049500</td>\n",
       "      <td>4.935000</td>\n",
       "      <td>12.90</td>\n",
       "    </tr>\n",
       "  </tbody>\n",
       "</table>\n",
       "</div>"
      ],
      "text/plain": [
       "   default_rate_cum  default_rate_ann  interest_rate_ann  interest_rate_cum\n",
       "0             0.126          0.044892           4.520247              11.82\n",
       "1             0.162          0.058912           5.782115              15.06\n",
       "2             0.008          0.002677           0.720965               1.20\n",
       "3             0.178          0.065338           6.360447              16.50\n",
       "4             0.138          0.049500           4.935000              12.90"
      ]
     },
     "execution_count": 25,
     "metadata": {},
     "output_type": "execute_result"
    }
   ],
   "source": [
    "df_actual.head()"
   ]
  },
  {
   "cell_type": "code",
   "execution_count": 14,
   "metadata": {},
   "outputs": [
    {
     "data": {
      "image/png": "[encoded data removed]",
      "text/plain": [
       "<Figure size 432x288 with 1 Axes>"
      ]
     },
     "metadata": {
      "needs_background": "light"
     },
     "output_type": "display_data"
    }
   ],
   "source": [
    "plt.hist(df_actual['interest_rate_ann'])\n",
    "plt.show()"
   ]
  },
  {
   "cell_type": "code",
   "execution_count": 15,
   "metadata": {},
   "outputs": [
    {
     "data": {
      "image/png": "[encoded data removed]",
      "text/plain": [
       "<Figure size 432x288 with 1 Axes>"
      ]
     },
     "metadata": {
      "needs_background": "light"
     },
     "output_type": "display_data"
    }
   ],
   "source": [
    "plt.hist(df_actual['default_rate_ann'])\n",
    "plt.show()"
   ]
  },
  {
   "cell_type": "markdown",
   "metadata": {},
   "source": [
    "## Analysis credit ratings\n",
    "\n",
    "uniform is probably the most appropriate"
   ]
  },
  {
   "cell_type": "code",
   "execution_count": 21,
   "metadata": {},
   "outputs": [
    {
     "name": "stdout",
     "output_type": "stream",
     "text": [
      "     default_rate_ann\n",
      "775          0.009124\n",
      "      default_rate_ann\n",
      "2357          0.014651\n",
      "     default_rate_ann\n",
      "176          0.019563\n",
      "     default_rate_ann\n",
      "181          0.025267\n",
      "     default_rate_ann\n",
      "146          0.031437\n",
      "      default_rate_ann\n",
      "2574          0.039595\n",
      "     default_rate_ann\n",
      "935          0.048342\n",
      "      default_rate_ann\n",
      "1025          0.056534\n",
      "     default_rate_ann\n",
      "426          0.071891\n"
     ]
    }
   ],
   "source": [
    "# by density\n",
    "\n",
    "df_actual_sorted = df_actual.sort_values(by = 'default_rate_ann', axis = 0, ascending = True)\n",
    "\n",
    "number_of_ratings = 10\n",
    "rating_index_threshold = len(df_actual_sorted)//number_of_ratings\n",
    "\n",
    "for threshold in range(1, number_of_ratings):\n",
    "    print(df_actual_sorted.iloc[[rating_index_threshold * threshold]][['default_rate_ann']])"
   ]
  },
  {
   "cell_type": "code",
   "execution_count": 62,
   "metadata": {},
   "outputs": [],
   "source": [
    "df_actual_sorted = df_actual.sort_values(by = 'default_rate_ann', axis = 0, ascending = True)\n",
    "\n",
    "lower_bound_default_rate = df_actual_sorted.iloc[0]\n",
    "upper_bound_default_rate = df_actual_sorted.iloc[-1]\n",
    "\n",
    "incremental_step = (upper_bound_default_rate - lower_bound_default_rate) / number_of_ratings\n",
    "\n",
    "credit_rating_thresholds = []\n",
    "\n",
    "for step in range(1, 10):\n",
    "    credit_rating_thresholds.append(incremental_step[0] * step)\n",
    "    \n",
    "    \n",
    "def get_credit_rating(default_rate):\n",
    "    if default_rate <= credit_rating_thresholds[0]:\n",
    "        return \"CR1\"\n",
    "    elif default_rate <= credit_rating_thresholds[1]:\n",
    "        return \"CR2\"\n",
    "    elif default_rate <= credit_rating_thresholds[2]:\n",
    "        return \"CR3\"\n",
    "    elif default_rate <= credit_rating_thresholds[3]:\n",
    "        return \"CR4\"\n",
    "    elif default_rate <= credit_rating_thresholds[4]:\n",
    "        return \"CR5\"\n",
    "    elif default_rate <= credit_rating_thresholds[5]:\n",
    "        return \"CR6\"\n",
    "    elif default_rate <= credit_rating_thresholds[6]:\n",
    "        return \"CR7\"\n",
    "    elif default_rate <= credit_rating_thresholds[7]:\n",
    "        return \"CR8\"\n",
    "    elif default_rate <= credit_rating_thresholds[8]:\n",
    "        return \"CR9\"\n",
    "    else:\n",
    "        return \"CR10\"\n",
    "\n",
    "\n",
    "    \n",
    "    "
   ]
  },
  {
   "cell_type": "code",
   "execution_count": 65,
   "metadata": {},
   "outputs": [
    {
     "data": {
      "text/plain": [
       "'CR10'"
      ]
     },
     "execution_count": 65,
     "metadata": {},
     "output_type": "execute_result"
    }
   ],
   "source": [
    "get_credit_rating(0.30)"
   ]
  },
  {
   "cell_type": "code",
   "execution_count": 51,
   "metadata": {},
   "outputs": [
    {
     "data": {
      "text/plain": [
       "[0.0322,\n",
       " 0.0644,\n",
       " 0.09659999999999999,\n",
       " 0.1288,\n",
       " 0.161,\n",
       " 0.19319999999999998,\n",
       " 0.2254,\n",
       " 0.2576,\n",
       " 0.2898]"
      ]
     },
     "execution_count": 51,
     "metadata": {},
     "output_type": "execute_result"
    }
   ],
   "source": [
    "credit_rating_thresholds"
   ]
  },
  {
   "cell_type": "code",
   "execution_count": 39,
   "metadata": {},
   "outputs": [],
   "source": [
    "# constant step\n",
    "\n",
    "lower_bound_default_rate = df_actual_sorted.iloc[0]\n",
    "upper_bound_default_rate = df_actual_sorted.iloc[-1]\n",
    "\n",
    "incremental_step = (upper_bound_default_rate - lower_bound_default_rate) / number_of_ratings\n",
    "\n",
    "credit_rating_thresholds = []\n",
    "\n",
    "for step in range(1,10):\n",
    "    credit_rating_thresholds.append(lower_bound_default_rate[0] + incremental_step * step)\n"
   ]
  },
  {
   "cell_type": "code",
   "execution_count": null,
   "metadata": {},
   "outputs": [],
   "source": []
  },
  {
   "cell_type": "code",
   "execution_count": null,
   "metadata": {},
   "outputs": [],
   "source": []
  },
  {
   "cell_type": "code",
   "execution_count": 149,
   "metadata": {},
   "outputs": [],
   "source": []
  },
  {
   "cell_type": "code",
   "execution_count": null,
   "metadata": {},
   "outputs": [],
   "source": []
  },
  {
   "cell_type": "code",
   "execution_count": null,
   "metadata": {},
   "outputs": [],
   "source": []
  },
  {
   "cell_type": "code",
   "execution_count": null,
   "metadata": {},
   "outputs": [],
   "source": []
  }
 ],
 "metadata": {
  "kernelspec": {
   "display_name": "Python 3",
   "language": "python",
   "name": "python3"
  },
  "language_info": {
   "codemirror_mode": {
    "name": "ipython",
    "version": 3
   },
   "file_extension": ".py",
   "mimetype": "text/x-python",
   "name": "python",
   "nbconvert_exporter": "python",
   "pygments_lexer": "ipython3",
   "version": "3.7.2"
  }
 },
 "nbformat": 4,
 "nbformat_minor": 4
}
